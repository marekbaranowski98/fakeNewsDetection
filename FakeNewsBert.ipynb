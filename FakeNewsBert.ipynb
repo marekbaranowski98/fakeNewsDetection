{
 "cells": [
  {
   "cell_type": "markdown",
   "metadata": {
    "id": "U7sQwp_1Ps1_",
    "tags": []
   },
   "source": [
    "# Model rozpoznający fake news"
   ]
  },
  {
   "cell_type": "markdown",
   "metadata": {
    "id": "SSmRwSH0Ps2J",
    "tags": []
   },
   "source": [
    "# Wstępne ustawienia"
   ]
  },
  {
   "cell_type": "code",
   "execution_count": 1,
   "metadata": {
    "colab": {
     "base_uri": "https://localhost:8080/"
    },
    "id": "F39zVi2aP3PL",
    "outputId": "4b125ae7-454c-409f-de46-8cd1333af9f7"
   },
   "outputs": [
    {
     "name": "stdout",
     "output_type": "stream",
     "text": [
      "Requirement already satisfied: torchsummaryX in /home/po/anaconda3/envs/marekBaranowski/lib/python3.10/site-packages (1.3.0)\n",
      "Requirement already satisfied: matplotlib in /home/po/anaconda3/envs/marekBaranowski/lib/python3.10/site-packages (3.7.0)\n",
      "Requirement already satisfied: tqdm in /home/po/anaconda3/envs/marekBaranowski/lib/python3.10/site-packages (4.64.1)\n",
      "Requirement already satisfied: wordcloud in /home/po/anaconda3/envs/marekBaranowski/lib/python3.10/site-packages (1.8.2.2)\n",
      "Requirement already satisfied: ipywidgets in /home/po/anaconda3/envs/marekBaranowski/lib/python3.10/site-packages (8.0.4)\n",
      "Requirement already satisfied: widgetsnbextension in /home/po/anaconda3/envs/marekBaranowski/lib/python3.10/site-packages (4.0.5)\n",
      "Requirement already satisfied: scikit-learn in /home/po/anaconda3/envs/marekBaranowski/lib/python3.10/site-packages (1.2.1)\n",
      "Requirement already satisfied: seaborn in /home/po/anaconda3/envs/marekBaranowski/lib/python3.10/site-packages (0.12.2)\n",
      "Requirement already satisfied: transformers in /home/po/anaconda3/envs/marekBaranowski/lib/python3.10/site-packages (4.26.1)\n",
      "Requirement already satisfied: numpy in /home/po/anaconda3/envs/marekBaranowski/lib/python3.10/site-packages (from torchsummaryX) (1.23.5)\n",
      "Requirement already satisfied: pandas in /home/po/anaconda3/envs/marekBaranowski/lib/python3.10/site-packages (from torchsummaryX) (1.5.3)\n",
      "Requirement already satisfied: torch in /home/po/anaconda3/envs/marekBaranowski/lib/python3.10/site-packages (from torchsummaryX) (1.13.1)\n",
      "Requirement already satisfied: fonttools>=4.22.0 in /home/po/anaconda3/envs/marekBaranowski/lib/python3.10/site-packages (from matplotlib) (4.38.0)\n",
      "Requirement already satisfied: contourpy>=1.0.1 in /home/po/anaconda3/envs/marekBaranowski/lib/python3.10/site-packages (from matplotlib) (1.0.7)\n",
      "Requirement already satisfied: pillow>=6.2.0 in /home/po/anaconda3/envs/marekBaranowski/lib/python3.10/site-packages (from matplotlib) (9.3.0)\n",
      "Requirement already satisfied: packaging>=20.0 in /home/po/anaconda3/envs/marekBaranowski/lib/python3.10/site-packages (from matplotlib) (23.0)\n",
      "Requirement already satisfied: cycler>=0.10 in /home/po/anaconda3/envs/marekBaranowski/lib/python3.10/site-packages (from matplotlib) (0.11.0)\n",
      "Requirement already satisfied: pyparsing>=2.3.1 in /home/po/anaconda3/envs/marekBaranowski/lib/python3.10/site-packages (from matplotlib) (3.0.9)\n",
      "Requirement already satisfied: python-dateutil>=2.7 in /home/po/anaconda3/envs/marekBaranowski/lib/python3.10/site-packages (from matplotlib) (2.8.2)\n",
      "Requirement already satisfied: kiwisolver>=1.0.1 in /home/po/anaconda3/envs/marekBaranowski/lib/python3.10/site-packages (from matplotlib) (1.4.4)\n",
      "Requirement already satisfied: traitlets>=4.3.1 in /home/po/anaconda3/envs/marekBaranowski/lib/python3.10/site-packages (from ipywidgets) (5.9.0)\n",
      "Requirement already satisfied: ipython>=6.1.0 in /home/po/anaconda3/envs/marekBaranowski/lib/python3.10/site-packages (from ipywidgets) (8.10.0)\n",
      "Requirement already satisfied: ipykernel>=4.5.1 in /home/po/anaconda3/envs/marekBaranowski/lib/python3.10/site-packages (from ipywidgets) (6.21.2)\n",
      "Requirement already satisfied: jupyterlab-widgets~=3.0 in /home/po/anaconda3/envs/marekBaranowski/lib/python3.10/site-packages (from ipywidgets) (3.0.5)\n",
      "Requirement already satisfied: scipy>=1.3.2 in /home/po/anaconda3/envs/marekBaranowski/lib/python3.10/site-packages (from scikit-learn) (1.10.1)\n",
      "Requirement already satisfied: threadpoolctl>=2.0.0 in /home/po/anaconda3/envs/marekBaranowski/lib/python3.10/site-packages (from scikit-learn) (3.1.0)\n",
      "Requirement already satisfied: joblib>=1.1.1 in /home/po/anaconda3/envs/marekBaranowski/lib/python3.10/site-packages (from scikit-learn) (1.2.0)\n",
      "Requirement already satisfied: tokenizers!=0.11.3,<0.14,>=0.11.1 in /home/po/anaconda3/envs/marekBaranowski/lib/python3.10/site-packages (from transformers) (0.13.2)\n",
      "Requirement already satisfied: regex!=2019.12.17 in /home/po/anaconda3/envs/marekBaranowski/lib/python3.10/site-packages (from transformers) (2022.10.31)\n",
      "Requirement already satisfied: filelock in /home/po/anaconda3/envs/marekBaranowski/lib/python3.10/site-packages (from transformers) (3.9.0)\n",
      "Requirement already satisfied: pyyaml>=5.1 in /home/po/anaconda3/envs/marekBaranowski/lib/python3.10/site-packages (from transformers) (6.0)\n",
      "Requirement already satisfied: huggingface-hub<1.0,>=0.11.0 in /home/po/anaconda3/envs/marekBaranowski/lib/python3.10/site-packages (from transformers) (0.12.1)\n",
      "Requirement already satisfied: requests in /home/po/anaconda3/envs/marekBaranowski/lib/python3.10/site-packages (from transformers) (2.28.1)\n",
      "Requirement already satisfied: typing-extensions>=3.7.4.3 in /home/po/anaconda3/envs/marekBaranowski/lib/python3.10/site-packages (from huggingface-hub<1.0,>=0.11.0->transformers) (4.4.0)\n",
      "Requirement already satisfied: comm>=0.1.1 in /home/po/anaconda3/envs/marekBaranowski/lib/python3.10/site-packages (from ipykernel>=4.5.1->ipywidgets) (0.1.2)\n",
      "Requirement already satisfied: psutil in /home/po/anaconda3/envs/marekBaranowski/lib/python3.10/site-packages (from ipykernel>=4.5.1->ipywidgets) (5.9.4)\n",
      "Requirement already satisfied: jupyter-client>=6.1.12 in /home/po/anaconda3/envs/marekBaranowski/lib/python3.10/site-packages (from ipykernel>=4.5.1->ipywidgets) (8.0.3)\n",
      "Requirement already satisfied: debugpy>=1.6.5 in /home/po/anaconda3/envs/marekBaranowski/lib/python3.10/site-packages (from ipykernel>=4.5.1->ipywidgets) (1.6.6)\n",
      "Requirement already satisfied: tornado>=6.1 in /home/po/anaconda3/envs/marekBaranowski/lib/python3.10/site-packages (from ipykernel>=4.5.1->ipywidgets) (6.2)\n",
      "Requirement already satisfied: nest-asyncio in /home/po/anaconda3/envs/marekBaranowski/lib/python3.10/site-packages (from ipykernel>=4.5.1->ipywidgets) (1.5.6)\n",
      "Requirement already satisfied: jupyter-core!=5.0.*,>=4.12 in /home/po/anaconda3/envs/marekBaranowski/lib/python3.10/site-packages (from ipykernel>=4.5.1->ipywidgets) (5.2.0)\n",
      "Requirement already satisfied: pyzmq>=20 in /home/po/anaconda3/envs/marekBaranowski/lib/python3.10/site-packages (from ipykernel>=4.5.1->ipywidgets) (25.0.0)\n",
      "Requirement already satisfied: matplotlib-inline>=0.1 in /home/po/anaconda3/envs/marekBaranowski/lib/python3.10/site-packages (from ipykernel>=4.5.1->ipywidgets) (0.1.6)\n",
      "Requirement already satisfied: pygments>=2.4.0 in /home/po/anaconda3/envs/marekBaranowski/lib/python3.10/site-packages (from ipython>=6.1.0->ipywidgets) (2.14.0)\n",
      "Requirement already satisfied: backcall in /home/po/anaconda3/envs/marekBaranowski/lib/python3.10/site-packages (from ipython>=6.1.0->ipywidgets) (0.2.0)\n",
      "Requirement already satisfied: prompt-toolkit<3.1.0,>=3.0.30 in /home/po/anaconda3/envs/marekBaranowski/lib/python3.10/site-packages (from ipython>=6.1.0->ipywidgets) (3.0.37)\n",
      "Requirement already satisfied: jedi>=0.16 in /home/po/anaconda3/envs/marekBaranowski/lib/python3.10/site-packages (from ipython>=6.1.0->ipywidgets) (0.18.2)\n",
      "Requirement already satisfied: decorator in /home/po/anaconda3/envs/marekBaranowski/lib/python3.10/site-packages (from ipython>=6.1.0->ipywidgets) (5.1.1)\n",
      "Requirement already satisfied: stack-data in /home/po/anaconda3/envs/marekBaranowski/lib/python3.10/site-packages (from ipython>=6.1.0->ipywidgets) (0.6.2)\n",
      "Requirement already satisfied: pickleshare in /home/po/anaconda3/envs/marekBaranowski/lib/python3.10/site-packages (from ipython>=6.1.0->ipywidgets) (0.7.5)\n",
      "Requirement already satisfied: pexpect>4.3 in /home/po/anaconda3/envs/marekBaranowski/lib/python3.10/site-packages (from ipython>=6.1.0->ipywidgets) (4.8.0)\n",
      "Requirement already satisfied: pytz>=2020.1 in /home/po/anaconda3/envs/marekBaranowski/lib/python3.10/site-packages (from pandas->torchsummaryX) (2022.7.1)\n",
      "Requirement already satisfied: six>=1.5 in /home/po/anaconda3/envs/marekBaranowski/lib/python3.10/site-packages (from python-dateutil>=2.7->matplotlib) (1.16.0)\n",
      "Requirement already satisfied: idna<4,>=2.5 in /home/po/anaconda3/envs/marekBaranowski/lib/python3.10/site-packages (from requests->transformers) (3.4)\n",
      "Requirement already satisfied: charset-normalizer<3,>=2 in /home/po/anaconda3/envs/marekBaranowski/lib/python3.10/site-packages (from requests->transformers) (2.0.4)\n",
      "Requirement already satisfied: certifi>=2017.4.17 in /home/po/anaconda3/envs/marekBaranowski/lib/python3.10/site-packages (from requests->transformers) (2022.12.7)\n",
      "Requirement already satisfied: urllib3<1.27,>=1.21.1 in /home/po/anaconda3/envs/marekBaranowski/lib/python3.10/site-packages (from requests->transformers) (1.26.14)\n",
      "Requirement already satisfied: parso<0.9.0,>=0.8.0 in /home/po/anaconda3/envs/marekBaranowski/lib/python3.10/site-packages (from jedi>=0.16->ipython>=6.1.0->ipywidgets) (0.8.3)\n",
      "Requirement already satisfied: platformdirs>=2.5 in /home/po/anaconda3/envs/marekBaranowski/lib/python3.10/site-packages (from jupyter-core!=5.0.*,>=4.12->ipykernel>=4.5.1->ipywidgets) (3.0.0)\n",
      "Requirement already satisfied: ptyprocess>=0.5 in /home/po/anaconda3/envs/marekBaranowski/lib/python3.10/site-packages (from pexpect>4.3->ipython>=6.1.0->ipywidgets) (0.7.0)\n",
      "Requirement already satisfied: wcwidth in /home/po/anaconda3/envs/marekBaranowski/lib/python3.10/site-packages (from prompt-toolkit<3.1.0,>=3.0.30->ipython>=6.1.0->ipywidgets) (0.2.6)\n",
      "Requirement already satisfied: asttokens>=2.1.0 in /home/po/anaconda3/envs/marekBaranowski/lib/python3.10/site-packages (from stack-data->ipython>=6.1.0->ipywidgets) (2.2.1)\n",
      "Requirement already satisfied: executing>=1.2.0 in /home/po/anaconda3/envs/marekBaranowski/lib/python3.10/site-packages (from stack-data->ipython>=6.1.0->ipywidgets) (1.2.0)\n",
      "Requirement already satisfied: pure-eval in /home/po/anaconda3/envs/marekBaranowski/lib/python3.10/site-packages (from stack-data->ipython>=6.1.0->ipywidgets) (0.2.2)\n"
     ]
    }
   ],
   "source": [
    "!pip install torchsummaryX matplotlib tqdm wordcloud ipywidgets widgetsnbextension scikit-learn seaborn transformers"
   ]
  },
  {
   "cell_type": "markdown",
   "metadata": {
    "id": "Xa2JcSuuPs2J"
   },
   "source": [
    "## Import bibliotek"
   ]
  },
  {
   "cell_type": "code",
   "execution_count": 2,
   "metadata": {
    "id": "ddxePKaHPs2K"
   },
   "outputs": [],
   "source": [
    "import os\n",
    "\n",
    "import numpy as np\n",
    "import pandas as pd\n",
    "import seaborn as sns\n",
    "import torch\n",
    "import string\n",
    "import requests\n",
    "import transformers\n",
    "\n",
    "from datetime import datetime\n",
    "from tqdm import tqdm\n",
    "from torchsummaryX import summary\n",
    "from torch.utils import tensorboard\n",
    "from random import randrange\n",
    "from sklearn.metrics import confusion_matrix"
   ]
  },
  {
   "cell_type": "markdown",
   "metadata": {
    "id": "sLB_1_wKPs2K"
   },
   "source": [
    "## Zdefiniowanie stałych"
   ]
  },
  {
   "cell_type": "code",
   "execution_count": 3,
   "metadata": {
    "id": "V6lprunbPs2L"
   },
   "outputs": [],
   "source": [
    "NIGHTLY = False\n",
    "USE_MPS = False\n",
    "\n",
    "LOGS_PATH = 'logi/FakeNews'\n",
    "DATA_PATH = 'data/FakeNews'\n",
    "GRAPH_PATH = 'graph/FakeNews'\n",
    "PROJECTOR_PATH = 'projector/FakeNews'\n",
    "MODEL_PATH = 'model/FakeNews'\n",
    "DATA_FILENAME = 'WelFake.csv'\n",
    "\n",
    "DATA_URL = 'https://zenodo.org/record/4561253/files/WELFake_Dataset.csv?download=1'"
   ]
  },
  {
   "cell_type": "code",
   "execution_count": 4,
   "metadata": {
    "id": "RFhEFTBRPs2L"
   },
   "outputs": [],
   "source": [
    "TRAIN_LEN_SPLIT = 0.7\n",
    "VAL_LEN_SPLIT = 0.1\n",
    "TEST_LEN_SPLIT = 0.2\n",
    "\n",
    "tmpSum = (TRAIN_LEN_SPLIT + VAL_LEN_SPLIT + TEST_LEN_SPLIT)\n",
    "assert(tmpSum <= 1.0)\n",
    "assert(tmpSum > 0)"
   ]
  },
  {
   "cell_type": "markdown",
   "metadata": {},
   "source": [
    "## Ustawienie rozszerzeń notebooka"
   ]
  },
  {
   "cell_type": "code",
   "execution_count": 5,
   "metadata": {},
   "outputs": [
    {
     "name": "stdout",
     "output_type": "stream",
     "text": [
      "Enabling notebook extension jupyter-js-widgets/extension...\n",
      "      - Validating: \u001B[32mOK\u001B[0m\n"
     ]
    }
   ],
   "source": [
    "!jupyter nbextension enable --py widgetsnbextension"
   ]
  },
  {
   "cell_type": "markdown",
   "metadata": {
    "id": "jqdKaLrlPs2L"
   },
   "source": [
    "## Wybór urządzenia do treningu"
   ]
  },
  {
   "cell_type": "code",
   "execution_count": 6,
   "metadata": {
    "id": "_nM3UaZ_Ps2M"
   },
   "outputs": [],
   "source": [
    "if torch.cuda.is_available():\n",
    "  DEVICE = torch.device('cuda')\n",
    "elif torch.backends.mps.is_available() and USE_MPS:\n",
    "  DEVICE = torch.device('mps')\n",
    "else:\n",
    "  DEVICE = torch.device('cpu')"
   ]
  },
  {
   "cell_type": "markdown",
   "metadata": {
    "id": "c3knHrx0Ps2M"
   },
   "source": [
    "## Utworzenie potrzebnych katalogów"
   ]
  },
  {
   "cell_type": "code",
   "execution_count": 7,
   "metadata": {
    "id": "3apTAyUyPs2M"
   },
   "outputs": [],
   "source": [
    "list_folders = [\n",
    "  LOGS_PATH,\n",
    "  DATA_PATH,\n",
    "  PROJECTOR_PATH,\n",
    "  MODEL_PATH\n",
    "]\n",
    "\n",
    "for x in list_folders:\n",
    "  if not os.path.exists(x):\n",
    "    os.makedirs(x)"
   ]
  },
  {
   "cell_type": "markdown",
   "metadata": {
    "id": "8a9pAg90Ps2M",
    "tags": []
   },
   "source": [
    "# Zbiór danych\n",
    "Pobrane z\n",
    "https://www.kaggle.com/datasets/saurabhshahane/fake-news-classification"
   ]
  },
  {
   "cell_type": "markdown",
   "metadata": {
    "id": "Nz-M1BY3Ps2M",
    "tags": []
   },
   "source": [
    "## Funkcja pobierająca CSV from URL_PATH save to DATA_PATH"
   ]
  },
  {
   "cell_type": "code",
   "execution_count": 8,
   "metadata": {
    "id": "TU590y32Ps2N"
   },
   "outputs": [],
   "source": [
    "def download_csv(url: string, file_path: string, filename: string):\n",
    "  req = requests.get(url)\n",
    "  body = req.content\n",
    "\n",
    "  with open(os.path.join(file_path, filename), 'wb') as f:\n",
    "    f.write(body)"
   ]
  },
  {
   "cell_type": "markdown",
   "metadata": {
    "id": "E0dcLevAPs2N",
    "tags": []
   },
   "source": [
    "## Pobranie pliku CSV i zapisanie go do pliku"
   ]
  },
  {
   "cell_type": "code",
   "execution_count": 9,
   "metadata": {
    "id": "qayA8p7TPs2N"
   },
   "outputs": [],
   "source": [
    "if not os.path.exists(os.path.join(DATA_PATH, DATA_FILENAME)):\n",
    "  download_csv(DATA_URL, DATA_PATH, DATA_FILENAME)"
   ]
  },
  {
   "cell_type": "markdown",
   "metadata": {
    "id": "vvh6cQtZPs2O",
    "tags": []
   },
   "source": [
    "## Wczytanie pobranego pliku do pandas"
   ]
  },
  {
   "cell_type": "code",
   "execution_count": 10,
   "metadata": {
    "id": "ZiyC92DUPs2O"
   },
   "outputs": [],
   "source": [
    "data = pd.read_csv(os.path.join(os.path.join(DATA_PATH, DATA_FILENAME)))\n",
    "# data = pd.read_csv(DATA_URL)"
   ]
  },
  {
   "cell_type": "markdown",
   "metadata": {
    "id": "KkVSABCqPs2O",
    "tags": []
   },
   "source": [
    "### Zmiana nazwy pól"
   ]
  },
  {
   "cell_type": "code",
   "execution_count": 11,
   "metadata": {
    "colab": {
     "base_uri": "https://localhost:8080/",
     "height": 204
    },
    "id": "u6nRCR0rPs2O",
    "outputId": "1a2db997-2675-4c47-bfde-cd7bd5f587a7"
   },
   "outputs": [
    {
     "data": {
      "text/html": [
       "<div>\n",
       "<style scoped>\n",
       "    .dataframe tbody tr th:only-of-type {\n",
       "        vertical-align: middle;\n",
       "    }\n",
       "\n",
       "    .dataframe tbody tr th {\n",
       "        vertical-align: top;\n",
       "    }\n",
       "\n",
       "    .dataframe thead th {\n",
       "        text-align: right;\n",
       "    }\n",
       "</style>\n",
       "<table border=\"1\" class=\"dataframe\">\n",
       "  <thead>\n",
       "    <tr style=\"text-align: right;\">\n",
       "      <th></th>\n",
       "      <th>ID</th>\n",
       "      <th>title</th>\n",
       "      <th>text</th>\n",
       "      <th>label</th>\n",
       "      <th>category</th>\n",
       "    </tr>\n",
       "  </thead>\n",
       "  <tbody>\n",
       "    <tr>\n",
       "      <th>0</th>\n",
       "      <td>0</td>\n",
       "      <td>LAW ENFORCEMENT ON HIGH ALERT Following Threat...</td>\n",
       "      <td>No comment is expected from Barack Obama Membe...</td>\n",
       "      <td>1</td>\n",
       "      <td>fake</td>\n",
       "    </tr>\n",
       "    <tr>\n",
       "      <th>1</th>\n",
       "      <td>1</td>\n",
       "      <td>NaN</td>\n",
       "      <td>Did they post their votes for Hillary already?</td>\n",
       "      <td>1</td>\n",
       "      <td>fake</td>\n",
       "    </tr>\n",
       "    <tr>\n",
       "      <th>2</th>\n",
       "      <td>2</td>\n",
       "      <td>UNBELIEVABLE! OBAMA’S ATTORNEY GENERAL SAYS MO...</td>\n",
       "      <td>Now, most of the demonstrators gathered last ...</td>\n",
       "      <td>1</td>\n",
       "      <td>fake</td>\n",
       "    </tr>\n",
       "    <tr>\n",
       "      <th>3</th>\n",
       "      <td>3</td>\n",
       "      <td>Bobby Jindal, raised Hindu, uses story of Chri...</td>\n",
       "      <td>A dozen politically active pastors came here f...</td>\n",
       "      <td>0</td>\n",
       "      <td>real</td>\n",
       "    </tr>\n",
       "    <tr>\n",
       "      <th>4</th>\n",
       "      <td>4</td>\n",
       "      <td>SATAN 2: Russia unvelis an image of its terrif...</td>\n",
       "      <td>The RS-28 Sarmat missile, dubbed Satan 2, will...</td>\n",
       "      <td>1</td>\n",
       "      <td>fake</td>\n",
       "    </tr>\n",
       "  </tbody>\n",
       "</table>\n",
       "</div>"
      ],
      "text/plain": [
       "   ID                                              title  \\\n",
       "0   0  LAW ENFORCEMENT ON HIGH ALERT Following Threat...   \n",
       "1   1                                                NaN   \n",
       "2   2  UNBELIEVABLE! OBAMA’S ATTORNEY GENERAL SAYS MO...   \n",
       "3   3  Bobby Jindal, raised Hindu, uses story of Chri...   \n",
       "4   4  SATAN 2: Russia unvelis an image of its terrif...   \n",
       "\n",
       "                                                text  label category  \n",
       "0  No comment is expected from Barack Obama Membe...      1     fake  \n",
       "1     Did they post their votes for Hillary already?      1     fake  \n",
       "2   Now, most of the demonstrators gathered last ...      1     fake  \n",
       "3  A dozen politically active pastors came here f...      0     real  \n",
       "4  The RS-28 Sarmat missile, dubbed Satan 2, will...      1     fake  "
      ]
     },
     "execution_count": 11,
     "metadata": {},
     "output_type": "execute_result"
    }
   ],
   "source": [
    "data = data.rename(columns={'Unnamed: 0': 'ID'})\n",
    "data['category'] = np.where(data['label'] == 1, 'fake', 'real')\n",
    "data.head()"
   ]
  },
  {
   "cell_type": "markdown",
   "metadata": {
    "id": "XFK9Kgi3Ps2P",
    "tags": []
   },
   "source": [
    "### Usunięcie wierszy bez artykułu"
   ]
  },
  {
   "cell_type": "code",
   "execution_count": 12,
   "metadata": {
    "id": "aMvYb_PtPs2P"
   },
   "outputs": [],
   "source": [
    "data = data.replace(r'^\\s*$', np.nan, regex=True)\n",
    "data = data.dropna(subset=['text'])"
   ]
  },
  {
   "cell_type": "markdown",
   "metadata": {},
   "source": [
    "### Podsumowanie liczby artykułów z podziałem na kategorie\n",
    "\n",
    "1 - Fake<br>0 - Real"
   ]
  },
  {
   "cell_type": "markdown",
   "metadata": {
    "id": "fO0NK85QPs2S",
    "tags": []
   },
   "source": [
    "## Podział zbioru danych\n",
    "\n",
    "\n",
    "Zbiór danych zostanie podzielony na 3 zbiory:\n",
    "- treningowe — dane do uczenia\n",
    "- walidacyjne — do oceny modelu podczas treningu\n",
    "- testowe - do oceny modelu po treningu\n",
    "\n",
    "Dane zostaną podzielone zgodnie ze zdefiniowanym stosunkiem"
   ]
  },
  {
   "cell_type": "code",
   "execution_count": 13,
   "metadata": {
    "id": "Loo0FMWaPs2S"
   },
   "outputs": [],
   "source": [
    "data_train = data[:int(len(data)*TRAIN_LEN_SPLIT)]\n",
    "\n",
    "data_val = data[\n",
    "  int(len(data)*TRAIN_LEN_SPLIT):int(len(data)*TRAIN_LEN_SPLIT + len(data)*VAL_LEN_SPLIT)\n",
    "]\n",
    "\n",
    "data_test = data[\n",
    "  int(len(data)*TRAIN_LEN_SPLIT + len(data)*VAL_LEN_SPLIT)\n",
    "  :\n",
    "  int(len(data)*TRAIN_LEN_SPLIT + len(data)*VAL_LEN_SPLIT + len(data)*TEST_LEN_SPLIT)\n",
    "]"
   ]
  },
  {
   "cell_type": "markdown",
   "metadata": {
    "id": "a3Ded6yjPs2S",
    "tags": []
   },
   "source": [
    "### Sprawdzenie rozmiaru poszczególnych zbiorów"
   ]
  },
  {
   "cell_type": "markdown",
   "metadata": {
    "id": "cVngTRuMPs2S",
    "tags": []
   },
   "source": [
    "#### Zbiór treningowy"
   ]
  },
  {
   "cell_type": "code",
   "execution_count": 14,
   "metadata": {
    "colab": {
     "base_uri": "https://localhost:8080/"
    },
    "id": "Ou_qE4M_Ps2S",
    "outputId": "ecfa85cb-3a97-423a-f41c-3da91c43d621"
   },
   "outputs": [
    {
     "data": {
      "text/plain": [
       "(49945, 5)"
      ]
     },
     "execution_count": 14,
     "metadata": {},
     "output_type": "execute_result"
    }
   ],
   "source": [
    "data_train.shape"
   ]
  },
  {
   "cell_type": "markdown",
   "metadata": {
    "id": "98K-75H2Ps2S"
   },
   "source": [
    "#### Zbiór walidacyjny"
   ]
  },
  {
   "cell_type": "code",
   "execution_count": 15,
   "metadata": {
    "colab": {
     "base_uri": "https://localhost:8080/"
    },
    "id": "TjvejKSTPs2S",
    "outputId": "f432ff7c-b298-4833-ddb9-bb8bab5ebb79"
   },
   "outputs": [
    {
     "data": {
      "text/plain": [
       "(7135, 5)"
      ]
     },
     "execution_count": 15,
     "metadata": {},
     "output_type": "execute_result"
    }
   ],
   "source": [
    "data_val.shape"
   ]
  },
  {
   "cell_type": "markdown",
   "metadata": {
    "id": "RF0N96ewPs2S"
   },
   "source": [
    "#### Zbiór testowy"
   ]
  },
  {
   "cell_type": "code",
   "execution_count": 16,
   "metadata": {
    "colab": {
     "base_uri": "https://localhost:8080/"
    },
    "id": "TVuMXBVdPs2S",
    "outputId": "a2bbdd08-8b66-4314-fc36-8c3ac6b26ae9"
   },
   "outputs": [
    {
     "data": {
      "text/plain": [
       "(14271, 5)"
      ]
     },
     "execution_count": 16,
     "metadata": {},
     "output_type": "execute_result"
    }
   ],
   "source": [
    "data_test.shape"
   ]
  },
  {
   "cell_type": "markdown",
   "metadata": {
    "id": "02RuSNVIPs2T",
    "tags": []
   },
   "source": [
    "# Trening modelu"
   ]
  },
  {
   "cell_type": "markdown",
   "metadata": {},
   "source": [
    "## Zdefiniowanie ustawień"
   ]
  },
  {
   "cell_type": "code",
   "execution_count": 17,
   "metadata": {},
   "outputs": [],
   "source": [
    "MODEL_TRANSFER_VERSION = 'bert'\n",
    "MODEL_TRANSFER_PATH = os.path.join(os.path.join(MODEL_PATH, f'model_{MODEL_TRANSFER_VERSION}.pt'))\n",
    "\n",
    "PRE_TRAINED_MODEL_NAME = 'bert-base-cased'\n",
    "\n",
    "SEQ_LENGTH = 400\n",
    "\n",
    "PATIENCE = 10\n",
    "DELTA = 0\n",
    "\n",
    "BATCH_SIZE = 16\n",
    "EPOCHS = 100\n",
    "CLIP_GRAD = 15\n",
    "DROPOUT = 0.4\n",
    "\n",
    "TOKENIZER = transformers.BertTokenizer.from_pretrained(PRE_TRAINED_MODEL_NAME)"
   ]
  },
  {
   "cell_type": "markdown",
   "metadata": {
    "id": "yHyPzHXWPs2T",
    "tags": []
   },
   "source": [
    "## Utworzenie klas pomocniczych"
   ]
  },
  {
   "cell_type": "markdown",
   "metadata": {
    "tags": []
   },
   "source": [
    "### Klasa EarlyStoping\n",
    "\n",
    "Klasa pozwalająca zatrzymać trenowanie modelu, jeżeli model nie będzie uczył się dla zbioru walidacyjne."
   ]
  },
  {
   "cell_type": "code",
   "execution_count": 18,
   "metadata": {},
   "outputs": [],
   "source": [
    "class EarlyStoping:\n",
    "  def __init__(self, patience, delta = 0, operator = np.less, model_path = None):\n",
    "    self.PATIENCE = patience\n",
    "    self.DELTA = delta\n",
    "    self.operator = operator\n",
    "    self.model_path = model_path\n",
    "\n",
    "    self.trigger = 0\n",
    "    self.best_score = None\n",
    "        \n",
    "  def continue_training(self, actual_value, model_save):\n",
    "    if self.best_score is not None and self.operator(self.best_score + self.DELTA, actual_value):\n",
    "      self.trigger += 1\n",
    "            \n",
    "      if self.trigger >= self.PATIENCE:\n",
    "        return False\n",
    "    else:\n",
    "      self.trigger = 0\n",
    "      self.best_score = actual_value\n",
    "      if self.model_path is not None and model is not None:\n",
    "        torch.save(model_save.state_dict(), self.model_path)\n",
    "    return True"
   ]
  },
  {
   "cell_type": "markdown",
   "metadata": {
    "id": "TInvM4jEPs2T",
    "tags": []
   },
   "source": [
    "### Funkcja tworząca logger TensorBoard"
   ]
  },
  {
   "cell_type": "code",
   "execution_count": 19,
   "metadata": {
    "id": "vKiZxa_3Ps2T"
   },
   "outputs": [],
   "source": [
    "def get_tensorboard_writer():\n",
    "  path = os.path.join(LOGS_PATH, f'{datetime.now().strftime(\"%Y_%m_%d-%H_%M_%S\")}_v{MODEL_TRANSFER_VERSION}')\n",
    "  writer_tmp = tensorboard.SummaryWriter(path)\n",
    "  \n",
    "  for filename in os.listdir(path):\n",
    "    file_path = os.path.join(path, filename)\n",
    "    if os.path.isfile(file_path) or os.path.islink(file_path):\n",
    "      os.unlink(file_path)\n",
    "    \n",
    "  return writer_tmp"
   ]
  },
  {
   "cell_type": "markdown",
   "metadata": {},
   "source": [
    "### Przygotowanie klasy Dataset"
   ]
  },
  {
   "cell_type": "code",
   "execution_count": 20,
   "metadata": {
    "tags": []
   },
   "outputs": [],
   "source": [
    "class FakeNewsDataset(torch.utils.data.Dataset):\n",
    "  def __init__(self, text, fake, tokenizer, max_len):\n",
    "    self.text = text\n",
    "    self.fake = fake\n",
    "    self.tokenizer = tokenizer\n",
    "    self.max_len = max_len\n",
    "  \n",
    "  def __len__(self):\n",
    "    return len(self.text)\n",
    "  \n",
    "  def __getitem__(self, i):\n",
    "    text = str(self.text[i])\n",
    "    fake = self.fake[i]\n",
    "    \n",
    "    enc = self.tokenizer.encode_plus(\n",
    "      text,\n",
    "      add_special_tokens=True,\n",
    "      max_length=self.max_len,\n",
    "      truncation=True,\n",
    "      return_token_type_ids=False,\n",
    "      padding='max_length',\n",
    "      return_attention_mask=True,\n",
    "      return_tensors='pt'\n",
    "    )\n",
    "    \n",
    "    return {\n",
    "      'text': text,\n",
    "      'input_ids': enc['input_ids'].flatten(),\n",
    "      'attention_mask': enc['attention_mask'].flatten(),\n",
    "      'fake': torch.tensor(fake, dtype=torch.long)\n",
    "    }"
   ]
  },
  {
   "cell_type": "markdown",
   "metadata": {
    "id": "IYJh25zuPs2T",
    "tags": []
   },
   "source": [
    "## Przygotowanie danych do treningu modelu w PyTorch"
   ]
  },
  {
   "cell_type": "markdown",
   "metadata": {
    "id": "w9tjwfnjPs2T",
    "tags": []
   },
   "source": [
    "### Utworzenie tensorów dla wczytanych zbiorów"
   ]
  },
  {
   "cell_type": "code",
   "execution_count": 21,
   "metadata": {
    "id": "44qxDivTPs2T"
   },
   "outputs": [],
   "source": [
    "train_data = FakeNewsDataset(\n",
    "  data_train.text.to_numpy(),\n",
    "  data_train.label.to_numpy(),\n",
    "  TOKENIZER,\n",
    "  max_len=SEQ_LENGTH\n",
    ")\n",
    "\n",
    "val_data = FakeNewsDataset(\n",
    "  data_val.text.to_numpy(),\n",
    "  data_val.label.to_numpy(),\n",
    "  TOKENIZER,\n",
    "  max_len=SEQ_LENGTH\n",
    ")\n",
    "\n",
    "test_data = FakeNewsDataset(\n",
    "  data_test.text.to_numpy(),\n",
    "  data_test.label.to_numpy(),\n",
    "  TOKENIZER,\n",
    "  max_len=SEQ_LENGTH\n",
    ")"
   ]
  },
  {
   "cell_type": "markdown",
   "metadata": {
    "id": "4Hrz6XDJPs2T",
    "tags": []
   },
   "source": [
    "### Stworzenie DataLoader"
   ]
  },
  {
   "cell_type": "code",
   "execution_count": 22,
   "metadata": {
    "colab": {
     "base_uri": "https://localhost:8080/"
    },
    "id": "COAElSxePs2T",
    "outputId": "aa9fa367-4ec0-47ba-9eff-ab5972f7aaed"
   },
   "outputs": [],
   "source": [
    "train_loader = torch.utils.data.DataLoader(\n",
    "  train_data, shuffle=True, batch_size=BATCH_SIZE, drop_last=True, num_workers=4\n",
    ")\n",
    "val_loader = torch.utils.data.DataLoader(\n",
    "  val_data, shuffle=False, batch_size=BATCH_SIZE, drop_last=True, num_workers=4\n",
    ")\n",
    "test_loader = torch.utils.data.DataLoader(\n",
    "  test_data, shuffle=False, batch_size=BATCH_SIZE, drop_last=True, num_workers=4\n",
    ")"
   ]
  },
  {
   "cell_type": "markdown",
   "metadata": {
    "id": "sikXNTJCPs2T",
    "tags": []
   },
   "source": [
    "## Definicja modelu"
   ]
  },
  {
   "cell_type": "code",
   "execution_count": 23,
   "metadata": {
    "id": "LsAU3f8ZPs2U"
   },
   "outputs": [],
   "source": [
    "class Net(torch.nn.Module):\n",
    "  def __init__(self, output_size, drop=0):\n",
    "    super(Net, self).__init__()\n",
    "    self.output_size = output_size\n",
    "    \n",
    "    self.bert = transformers.BertModel.from_pretrained(PRE_TRAINED_MODEL_NAME)\n",
    "    self.drop = torch.nn.Dropout(drop)\n",
    "    self.fc = torch.nn.Linear(self.bert.config.hidden_size, self.output_size)\n",
    "    self.sf = torch.nn.LogSoftmax(dim=1)\n",
    "\n",
    "  def forward(self, x, m):\n",
    "    out = self.bert(input_ids=x, attention_mask=m)[1]\n",
    "    out = self.drop(out)\n",
    "    out = self.fc(out)\n",
    "    out = self.sf(out)\n",
    "\n",
    "    return out"
   ]
  },
  {
   "cell_type": "markdown",
   "metadata": {
    "id": "s4LYWkfMPs2U",
    "tags": []
   },
   "source": [
    "## Utworzenie modelu"
   ]
  },
  {
   "cell_type": "code",
   "execution_count": 24,
   "metadata": {
    "id": "iV52diVdPs2U"
   },
   "outputs": [
    {
     "name": "stderr",
     "output_type": "stream",
     "text": [
      "Some weights of the model checkpoint at bert-base-cased were not used when initializing BertModel: ['cls.predictions.transform.LayerNorm.bias', 'cls.predictions.bias', 'cls.predictions.transform.dense.bias', 'cls.seq_relationship.bias', 'cls.seq_relationship.weight', 'cls.predictions.transform.dense.weight', 'cls.predictions.decoder.weight', 'cls.predictions.transform.LayerNorm.weight']\n",
      "- This IS expected if you are initializing BertModel from the checkpoint of a model trained on another task or with another architecture (e.g. initializing a BertForSequenceClassification model from a BertForPreTraining model).\n",
      "- This IS NOT expected if you are initializing BertModel from the checkpoint of a model that you expect to be exactly identical (initializing a BertForSequenceClassification model from a BertForSequenceClassification model).\n"
     ]
    }
   ],
   "source": [
    "model = Net(2, DROPOUT)"
   ]
  },
  {
   "cell_type": "markdown",
   "metadata": {
    "id": "6_Va1V4WPs2U",
    "tags": []
   },
   "source": [
    "### Przeniesienie modelu na urządzenie do treningu"
   ]
  },
  {
   "cell_type": "code",
   "execution_count": 25,
   "metadata": {
    "colab": {
     "base_uri": "https://localhost:8080/"
    },
    "id": "vfXEUsQwPs2U",
    "outputId": "4903389c-2b3b-40a1-a178-67a805b38b8e"
   },
   "outputs": [
    {
     "data": {
      "text/plain": [
       "Net(\n",
       "  (bert): BertModel(\n",
       "    (embeddings): BertEmbeddings(\n",
       "      (word_embeddings): Embedding(28996, 768, padding_idx=0)\n",
       "      (position_embeddings): Embedding(512, 768)\n",
       "      (token_type_embeddings): Embedding(2, 768)\n",
       "      (LayerNorm): LayerNorm((768,), eps=1e-12, elementwise_affine=True)\n",
       "      (dropout): Dropout(p=0.1, inplace=False)\n",
       "    )\n",
       "    (encoder): BertEncoder(\n",
       "      (layer): ModuleList(\n",
       "        (0): BertLayer(\n",
       "          (attention): BertAttention(\n",
       "            (self): BertSelfAttention(\n",
       "              (query): Linear(in_features=768, out_features=768, bias=True)\n",
       "              (key): Linear(in_features=768, out_features=768, bias=True)\n",
       "              (value): Linear(in_features=768, out_features=768, bias=True)\n",
       "              (dropout): Dropout(p=0.1, inplace=False)\n",
       "            )\n",
       "            (output): BertSelfOutput(\n",
       "              (dense): Linear(in_features=768, out_features=768, bias=True)\n",
       "              (LayerNorm): LayerNorm((768,), eps=1e-12, elementwise_affine=True)\n",
       "              (dropout): Dropout(p=0.1, inplace=False)\n",
       "            )\n",
       "          )\n",
       "          (intermediate): BertIntermediate(\n",
       "            (dense): Linear(in_features=768, out_features=3072, bias=True)\n",
       "            (intermediate_act_fn): GELUActivation()\n",
       "          )\n",
       "          (output): BertOutput(\n",
       "            (dense): Linear(in_features=3072, out_features=768, bias=True)\n",
       "            (LayerNorm): LayerNorm((768,), eps=1e-12, elementwise_affine=True)\n",
       "            (dropout): Dropout(p=0.1, inplace=False)\n",
       "          )\n",
       "        )\n",
       "        (1): BertLayer(\n",
       "          (attention): BertAttention(\n",
       "            (self): BertSelfAttention(\n",
       "              (query): Linear(in_features=768, out_features=768, bias=True)\n",
       "              (key): Linear(in_features=768, out_features=768, bias=True)\n",
       "              (value): Linear(in_features=768, out_features=768, bias=True)\n",
       "              (dropout): Dropout(p=0.1, inplace=False)\n",
       "            )\n",
       "            (output): BertSelfOutput(\n",
       "              (dense): Linear(in_features=768, out_features=768, bias=True)\n",
       "              (LayerNorm): LayerNorm((768,), eps=1e-12, elementwise_affine=True)\n",
       "              (dropout): Dropout(p=0.1, inplace=False)\n",
       "            )\n",
       "          )\n",
       "          (intermediate): BertIntermediate(\n",
       "            (dense): Linear(in_features=768, out_features=3072, bias=True)\n",
       "            (intermediate_act_fn): GELUActivation()\n",
       "          )\n",
       "          (output): BertOutput(\n",
       "            (dense): Linear(in_features=3072, out_features=768, bias=True)\n",
       "            (LayerNorm): LayerNorm((768,), eps=1e-12, elementwise_affine=True)\n",
       "            (dropout): Dropout(p=0.1, inplace=False)\n",
       "          )\n",
       "        )\n",
       "        (2): BertLayer(\n",
       "          (attention): BertAttention(\n",
       "            (self): BertSelfAttention(\n",
       "              (query): Linear(in_features=768, out_features=768, bias=True)\n",
       "              (key): Linear(in_features=768, out_features=768, bias=True)\n",
       "              (value): Linear(in_features=768, out_features=768, bias=True)\n",
       "              (dropout): Dropout(p=0.1, inplace=False)\n",
       "            )\n",
       "            (output): BertSelfOutput(\n",
       "              (dense): Linear(in_features=768, out_features=768, bias=True)\n",
       "              (LayerNorm): LayerNorm((768,), eps=1e-12, elementwise_affine=True)\n",
       "              (dropout): Dropout(p=0.1, inplace=False)\n",
       "            )\n",
       "          )\n",
       "          (intermediate): BertIntermediate(\n",
       "            (dense): Linear(in_features=768, out_features=3072, bias=True)\n",
       "            (intermediate_act_fn): GELUActivation()\n",
       "          )\n",
       "          (output): BertOutput(\n",
       "            (dense): Linear(in_features=3072, out_features=768, bias=True)\n",
       "            (LayerNorm): LayerNorm((768,), eps=1e-12, elementwise_affine=True)\n",
       "            (dropout): Dropout(p=0.1, inplace=False)\n",
       "          )\n",
       "        )\n",
       "        (3): BertLayer(\n",
       "          (attention): BertAttention(\n",
       "            (self): BertSelfAttention(\n",
       "              (query): Linear(in_features=768, out_features=768, bias=True)\n",
       "              (key): Linear(in_features=768, out_features=768, bias=True)\n",
       "              (value): Linear(in_features=768, out_features=768, bias=True)\n",
       "              (dropout): Dropout(p=0.1, inplace=False)\n",
       "            )\n",
       "            (output): BertSelfOutput(\n",
       "              (dense): Linear(in_features=768, out_features=768, bias=True)\n",
       "              (LayerNorm): LayerNorm((768,), eps=1e-12, elementwise_affine=True)\n",
       "              (dropout): Dropout(p=0.1, inplace=False)\n",
       "            )\n",
       "          )\n",
       "          (intermediate): BertIntermediate(\n",
       "            (dense): Linear(in_features=768, out_features=3072, bias=True)\n",
       "            (intermediate_act_fn): GELUActivation()\n",
       "          )\n",
       "          (output): BertOutput(\n",
       "            (dense): Linear(in_features=3072, out_features=768, bias=True)\n",
       "            (LayerNorm): LayerNorm((768,), eps=1e-12, elementwise_affine=True)\n",
       "            (dropout): Dropout(p=0.1, inplace=False)\n",
       "          )\n",
       "        )\n",
       "        (4): BertLayer(\n",
       "          (attention): BertAttention(\n",
       "            (self): BertSelfAttention(\n",
       "              (query): Linear(in_features=768, out_features=768, bias=True)\n",
       "              (key): Linear(in_features=768, out_features=768, bias=True)\n",
       "              (value): Linear(in_features=768, out_features=768, bias=True)\n",
       "              (dropout): Dropout(p=0.1, inplace=False)\n",
       "            )\n",
       "            (output): BertSelfOutput(\n",
       "              (dense): Linear(in_features=768, out_features=768, bias=True)\n",
       "              (LayerNorm): LayerNorm((768,), eps=1e-12, elementwise_affine=True)\n",
       "              (dropout): Dropout(p=0.1, inplace=False)\n",
       "            )\n",
       "          )\n",
       "          (intermediate): BertIntermediate(\n",
       "            (dense): Linear(in_features=768, out_features=3072, bias=True)\n",
       "            (intermediate_act_fn): GELUActivation()\n",
       "          )\n",
       "          (output): BertOutput(\n",
       "            (dense): Linear(in_features=3072, out_features=768, bias=True)\n",
       "            (LayerNorm): LayerNorm((768,), eps=1e-12, elementwise_affine=True)\n",
       "            (dropout): Dropout(p=0.1, inplace=False)\n",
       "          )\n",
       "        )\n",
       "        (5): BertLayer(\n",
       "          (attention): BertAttention(\n",
       "            (self): BertSelfAttention(\n",
       "              (query): Linear(in_features=768, out_features=768, bias=True)\n",
       "              (key): Linear(in_features=768, out_features=768, bias=True)\n",
       "              (value): Linear(in_features=768, out_features=768, bias=True)\n",
       "              (dropout): Dropout(p=0.1, inplace=False)\n",
       "            )\n",
       "            (output): BertSelfOutput(\n",
       "              (dense): Linear(in_features=768, out_features=768, bias=True)\n",
       "              (LayerNorm): LayerNorm((768,), eps=1e-12, elementwise_affine=True)\n",
       "              (dropout): Dropout(p=0.1, inplace=False)\n",
       "            )\n",
       "          )\n",
       "          (intermediate): BertIntermediate(\n",
       "            (dense): Linear(in_features=768, out_features=3072, bias=True)\n",
       "            (intermediate_act_fn): GELUActivation()\n",
       "          )\n",
       "          (output): BertOutput(\n",
       "            (dense): Linear(in_features=3072, out_features=768, bias=True)\n",
       "            (LayerNorm): LayerNorm((768,), eps=1e-12, elementwise_affine=True)\n",
       "            (dropout): Dropout(p=0.1, inplace=False)\n",
       "          )\n",
       "        )\n",
       "        (6): BertLayer(\n",
       "          (attention): BertAttention(\n",
       "            (self): BertSelfAttention(\n",
       "              (query): Linear(in_features=768, out_features=768, bias=True)\n",
       "              (key): Linear(in_features=768, out_features=768, bias=True)\n",
       "              (value): Linear(in_features=768, out_features=768, bias=True)\n",
       "              (dropout): Dropout(p=0.1, inplace=False)\n",
       "            )\n",
       "            (output): BertSelfOutput(\n",
       "              (dense): Linear(in_features=768, out_features=768, bias=True)\n",
       "              (LayerNorm): LayerNorm((768,), eps=1e-12, elementwise_affine=True)\n",
       "              (dropout): Dropout(p=0.1, inplace=False)\n",
       "            )\n",
       "          )\n",
       "          (intermediate): BertIntermediate(\n",
       "            (dense): Linear(in_features=768, out_features=3072, bias=True)\n",
       "            (intermediate_act_fn): GELUActivation()\n",
       "          )\n",
       "          (output): BertOutput(\n",
       "            (dense): Linear(in_features=3072, out_features=768, bias=True)\n",
       "            (LayerNorm): LayerNorm((768,), eps=1e-12, elementwise_affine=True)\n",
       "            (dropout): Dropout(p=0.1, inplace=False)\n",
       "          )\n",
       "        )\n",
       "        (7): BertLayer(\n",
       "          (attention): BertAttention(\n",
       "            (self): BertSelfAttention(\n",
       "              (query): Linear(in_features=768, out_features=768, bias=True)\n",
       "              (key): Linear(in_features=768, out_features=768, bias=True)\n",
       "              (value): Linear(in_features=768, out_features=768, bias=True)\n",
       "              (dropout): Dropout(p=0.1, inplace=False)\n",
       "            )\n",
       "            (output): BertSelfOutput(\n",
       "              (dense): Linear(in_features=768, out_features=768, bias=True)\n",
       "              (LayerNorm): LayerNorm((768,), eps=1e-12, elementwise_affine=True)\n",
       "              (dropout): Dropout(p=0.1, inplace=False)\n",
       "            )\n",
       "          )\n",
       "          (intermediate): BertIntermediate(\n",
       "            (dense): Linear(in_features=768, out_features=3072, bias=True)\n",
       "            (intermediate_act_fn): GELUActivation()\n",
       "          )\n",
       "          (output): BertOutput(\n",
       "            (dense): Linear(in_features=3072, out_features=768, bias=True)\n",
       "            (LayerNorm): LayerNorm((768,), eps=1e-12, elementwise_affine=True)\n",
       "            (dropout): Dropout(p=0.1, inplace=False)\n",
       "          )\n",
       "        )\n",
       "        (8): BertLayer(\n",
       "          (attention): BertAttention(\n",
       "            (self): BertSelfAttention(\n",
       "              (query): Linear(in_features=768, out_features=768, bias=True)\n",
       "              (key): Linear(in_features=768, out_features=768, bias=True)\n",
       "              (value): Linear(in_features=768, out_features=768, bias=True)\n",
       "              (dropout): Dropout(p=0.1, inplace=False)\n",
       "            )\n",
       "            (output): BertSelfOutput(\n",
       "              (dense): Linear(in_features=768, out_features=768, bias=True)\n",
       "              (LayerNorm): LayerNorm((768,), eps=1e-12, elementwise_affine=True)\n",
       "              (dropout): Dropout(p=0.1, inplace=False)\n",
       "            )\n",
       "          )\n",
       "          (intermediate): BertIntermediate(\n",
       "            (dense): Linear(in_features=768, out_features=3072, bias=True)\n",
       "            (intermediate_act_fn): GELUActivation()\n",
       "          )\n",
       "          (output): BertOutput(\n",
       "            (dense): Linear(in_features=3072, out_features=768, bias=True)\n",
       "            (LayerNorm): LayerNorm((768,), eps=1e-12, elementwise_affine=True)\n",
       "            (dropout): Dropout(p=0.1, inplace=False)\n",
       "          )\n",
       "        )\n",
       "        (9): BertLayer(\n",
       "          (attention): BertAttention(\n",
       "            (self): BertSelfAttention(\n",
       "              (query): Linear(in_features=768, out_features=768, bias=True)\n",
       "              (key): Linear(in_features=768, out_features=768, bias=True)\n",
       "              (value): Linear(in_features=768, out_features=768, bias=True)\n",
       "              (dropout): Dropout(p=0.1, inplace=False)\n",
       "            )\n",
       "            (output): BertSelfOutput(\n",
       "              (dense): Linear(in_features=768, out_features=768, bias=True)\n",
       "              (LayerNorm): LayerNorm((768,), eps=1e-12, elementwise_affine=True)\n",
       "              (dropout): Dropout(p=0.1, inplace=False)\n",
       "            )\n",
       "          )\n",
       "          (intermediate): BertIntermediate(\n",
       "            (dense): Linear(in_features=768, out_features=3072, bias=True)\n",
       "            (intermediate_act_fn): GELUActivation()\n",
       "          )\n",
       "          (output): BertOutput(\n",
       "            (dense): Linear(in_features=3072, out_features=768, bias=True)\n",
       "            (LayerNorm): LayerNorm((768,), eps=1e-12, elementwise_affine=True)\n",
       "            (dropout): Dropout(p=0.1, inplace=False)\n",
       "          )\n",
       "        )\n",
       "        (10): BertLayer(\n",
       "          (attention): BertAttention(\n",
       "            (self): BertSelfAttention(\n",
       "              (query): Linear(in_features=768, out_features=768, bias=True)\n",
       "              (key): Linear(in_features=768, out_features=768, bias=True)\n",
       "              (value): Linear(in_features=768, out_features=768, bias=True)\n",
       "              (dropout): Dropout(p=0.1, inplace=False)\n",
       "            )\n",
       "            (output): BertSelfOutput(\n",
       "              (dense): Linear(in_features=768, out_features=768, bias=True)\n",
       "              (LayerNorm): LayerNorm((768,), eps=1e-12, elementwise_affine=True)\n",
       "              (dropout): Dropout(p=0.1, inplace=False)\n",
       "            )\n",
       "          )\n",
       "          (intermediate): BertIntermediate(\n",
       "            (dense): Linear(in_features=768, out_features=3072, bias=True)\n",
       "            (intermediate_act_fn): GELUActivation()\n",
       "          )\n",
       "          (output): BertOutput(\n",
       "            (dense): Linear(in_features=3072, out_features=768, bias=True)\n",
       "            (LayerNorm): LayerNorm((768,), eps=1e-12, elementwise_affine=True)\n",
       "            (dropout): Dropout(p=0.1, inplace=False)\n",
       "          )\n",
       "        )\n",
       "        (11): BertLayer(\n",
       "          (attention): BertAttention(\n",
       "            (self): BertSelfAttention(\n",
       "              (query): Linear(in_features=768, out_features=768, bias=True)\n",
       "              (key): Linear(in_features=768, out_features=768, bias=True)\n",
       "              (value): Linear(in_features=768, out_features=768, bias=True)\n",
       "              (dropout): Dropout(p=0.1, inplace=False)\n",
       "            )\n",
       "            (output): BertSelfOutput(\n",
       "              (dense): Linear(in_features=768, out_features=768, bias=True)\n",
       "              (LayerNorm): LayerNorm((768,), eps=1e-12, elementwise_affine=True)\n",
       "              (dropout): Dropout(p=0.1, inplace=False)\n",
       "            )\n",
       "          )\n",
       "          (intermediate): BertIntermediate(\n",
       "            (dense): Linear(in_features=768, out_features=3072, bias=True)\n",
       "            (intermediate_act_fn): GELUActivation()\n",
       "          )\n",
       "          (output): BertOutput(\n",
       "            (dense): Linear(in_features=3072, out_features=768, bias=True)\n",
       "            (LayerNorm): LayerNorm((768,), eps=1e-12, elementwise_affine=True)\n",
       "            (dropout): Dropout(p=0.1, inplace=False)\n",
       "          )\n",
       "        )\n",
       "      )\n",
       "    )\n",
       "    (pooler): BertPooler(\n",
       "      (dense): Linear(in_features=768, out_features=768, bias=True)\n",
       "      (activation): Tanh()\n",
       "    )\n",
       "  )\n",
       "  (drop): Dropout(p=0.4, inplace=False)\n",
       "  (fc): Linear(in_features=768, out_features=2, bias=True)\n",
       "  (sf): LogSoftmax(dim=1)\n",
       ")"
      ]
     },
     "execution_count": 25,
     "metadata": {},
     "output_type": "execute_result"
    }
   ],
   "source": [
    "model.to(DEVICE)"
   ]
  },
  {
   "cell_type": "markdown",
   "metadata": {
    "id": "BnsjXBbrPs2U",
    "tags": []
   },
   "source": [
    "### Wyświetlenie modelu"
   ]
  },
  {
   "cell_type": "code",
   "execution_count": 26,
   "metadata": {
    "colab": {
     "base_uri": "https://localhost:8080/",
     "height": 496
    },
    "id": "zATcXouePs2U",
    "outputId": "9b99605a-03de-42fe-8709-5688ee71f8c3"
   },
   "outputs": [
    {
     "name": "stderr",
     "output_type": "stream",
     "text": [
      "/home/po/anaconda3/envs/marekBaranowski/lib/python3.10/site-packages/torchsummaryX/torchsummaryX.py:101: FutureWarning: The default value of numeric_only in DataFrame.sum is deprecated. In a future version, it will default to False. In addition, specifying 'numeric_only=None' is deprecated. Select only valid columns or specify the value of numeric_only to silence this warning.\n",
      "  df_sum = df.sum()\n"
     ]
    },
    {
     "name": "stdout",
     "output_type": "stream",
     "text": [
      "===================================================================================================================================\n",
      "                                                    Kernel Shape  \\\n",
      "Layer                                                              \n",
      "0_bert.embeddings.Embedding_word_embeddings         [768, 28996]   \n",
      "1_bert.embeddings.Embedding_token_type_embeddings       [768, 2]   \n",
      "2_bert.embeddings.Embedding_position_embeddings       [768, 512]   \n",
      "3_bert.embeddings.LayerNorm_LayerNorm                      [768]   \n",
      "4_bert.embeddings.Dropout_dropout                              -   \n",
      "5_bert.encoder.layer.0.attention.self.Linear_query    [768, 768]   \n",
      "6_bert.encoder.layer.0.attention.self.Linear_key      [768, 768]   \n",
      "7_bert.encoder.layer.0.attention.self.Linear_value    [768, 768]   \n",
      "8_bert.encoder.layer.0.attention.self.Dropout_d...             -   \n",
      "9_bert.encoder.layer.0.attention.output.Linear_...    [768, 768]   \n",
      "10_bert.encoder.layer.0.attention.output.Dropou...             -   \n",
      "11_bert.encoder.layer.0.attention.output.LayerN...         [768]   \n",
      "12_bert.encoder.layer.0.intermediate.Linear_dense    [768, 3072]   \n",
      "13_bert.encoder.layer.0.intermediate.GELUActiva...             -   \n",
      "14_bert.encoder.layer.0.output.Linear_dense          [3072, 768]   \n",
      "15_bert.encoder.layer.0.output.Dropout_dropout                 -   \n",
      "16_bert.encoder.layer.0.output.LayerNorm_LayerNorm         [768]   \n",
      "17_bert.encoder.layer.1.attention.self.Linear_q...    [768, 768]   \n",
      "18_bert.encoder.layer.1.attention.self.Linear_key     [768, 768]   \n",
      "19_bert.encoder.layer.1.attention.self.Linear_v...    [768, 768]   \n",
      "20_bert.encoder.layer.1.attention.self.Dropout_...             -   \n",
      "21_bert.encoder.layer.1.attention.output.Linear...    [768, 768]   \n",
      "22_bert.encoder.layer.1.attention.output.Dropou...             -   \n",
      "23_bert.encoder.layer.1.attention.output.LayerN...         [768]   \n",
      "24_bert.encoder.layer.1.intermediate.Linear_dense    [768, 3072]   \n",
      "25_bert.encoder.layer.1.intermediate.GELUActiva...             -   \n",
      "26_bert.encoder.layer.1.output.Linear_dense          [3072, 768]   \n",
      "27_bert.encoder.layer.1.output.Dropout_dropout                 -   \n",
      "28_bert.encoder.layer.1.output.LayerNorm_LayerNorm         [768]   \n",
      "29_bert.encoder.layer.2.attention.self.Linear_q...    [768, 768]   \n",
      "30_bert.encoder.layer.2.attention.self.Linear_key     [768, 768]   \n",
      "31_bert.encoder.layer.2.attention.self.Linear_v...    [768, 768]   \n",
      "32_bert.encoder.layer.2.attention.self.Dropout_...             -   \n",
      "33_bert.encoder.layer.2.attention.output.Linear...    [768, 768]   \n",
      "34_bert.encoder.layer.2.attention.output.Dropou...             -   \n",
      "35_bert.encoder.layer.2.attention.output.LayerN...         [768]   \n",
      "36_bert.encoder.layer.2.intermediate.Linear_dense    [768, 3072]   \n",
      "37_bert.encoder.layer.2.intermediate.GELUActiva...             -   \n",
      "38_bert.encoder.layer.2.output.Linear_dense          [3072, 768]   \n",
      "39_bert.encoder.layer.2.output.Dropout_dropout                 -   \n",
      "40_bert.encoder.layer.2.output.LayerNorm_LayerNorm         [768]   \n",
      "41_bert.encoder.layer.3.attention.self.Linear_q...    [768, 768]   \n",
      "42_bert.encoder.layer.3.attention.self.Linear_key     [768, 768]   \n",
      "43_bert.encoder.layer.3.attention.self.Linear_v...    [768, 768]   \n",
      "44_bert.encoder.layer.3.attention.self.Dropout_...             -   \n",
      "45_bert.encoder.layer.3.attention.output.Linear...    [768, 768]   \n",
      "46_bert.encoder.layer.3.attention.output.Dropou...             -   \n",
      "47_bert.encoder.layer.3.attention.output.LayerN...         [768]   \n",
      "48_bert.encoder.layer.3.intermediate.Linear_dense    [768, 3072]   \n",
      "49_bert.encoder.layer.3.intermediate.GELUActiva...             -   \n",
      "50_bert.encoder.layer.3.output.Linear_dense          [3072, 768]   \n",
      "51_bert.encoder.layer.3.output.Dropout_dropout                 -   \n",
      "52_bert.encoder.layer.3.output.LayerNorm_LayerNorm         [768]   \n",
      "53_bert.encoder.layer.4.attention.self.Linear_q...    [768, 768]   \n",
      "54_bert.encoder.layer.4.attention.self.Linear_key     [768, 768]   \n",
      "55_bert.encoder.layer.4.attention.self.Linear_v...    [768, 768]   \n",
      "56_bert.encoder.layer.4.attention.self.Dropout_...             -   \n",
      "57_bert.encoder.layer.4.attention.output.Linear...    [768, 768]   \n",
      "58_bert.encoder.layer.4.attention.output.Dropou...             -   \n",
      "59_bert.encoder.layer.4.attention.output.LayerN...         [768]   \n",
      "60_bert.encoder.layer.4.intermediate.Linear_dense    [768, 3072]   \n",
      "61_bert.encoder.layer.4.intermediate.GELUActiva...             -   \n",
      "62_bert.encoder.layer.4.output.Linear_dense          [3072, 768]   \n",
      "63_bert.encoder.layer.4.output.Dropout_dropout                 -   \n",
      "64_bert.encoder.layer.4.output.LayerNorm_LayerNorm         [768]   \n",
      "65_bert.encoder.layer.5.attention.self.Linear_q...    [768, 768]   \n",
      "66_bert.encoder.layer.5.attention.self.Linear_key     [768, 768]   \n",
      "67_bert.encoder.layer.5.attention.self.Linear_v...    [768, 768]   \n",
      "68_bert.encoder.layer.5.attention.self.Dropout_...             -   \n",
      "69_bert.encoder.layer.5.attention.output.Linear...    [768, 768]   \n",
      "70_bert.encoder.layer.5.attention.output.Dropou...             -   \n",
      "71_bert.encoder.layer.5.attention.output.LayerN...         [768]   \n",
      "72_bert.encoder.layer.5.intermediate.Linear_dense    [768, 3072]   \n",
      "73_bert.encoder.layer.5.intermediate.GELUActiva...             -   \n",
      "74_bert.encoder.layer.5.output.Linear_dense          [3072, 768]   \n",
      "75_bert.encoder.layer.5.output.Dropout_dropout                 -   \n",
      "76_bert.encoder.layer.5.output.LayerNorm_LayerNorm         [768]   \n",
      "77_bert.encoder.layer.6.attention.self.Linear_q...    [768, 768]   \n",
      "78_bert.encoder.layer.6.attention.self.Linear_key     [768, 768]   \n",
      "79_bert.encoder.layer.6.attention.self.Linear_v...    [768, 768]   \n",
      "80_bert.encoder.layer.6.attention.self.Dropout_...             -   \n",
      "81_bert.encoder.layer.6.attention.output.Linear...    [768, 768]   \n",
      "82_bert.encoder.layer.6.attention.output.Dropou...             -   \n",
      "83_bert.encoder.layer.6.attention.output.LayerN...         [768]   \n",
      "84_bert.encoder.layer.6.intermediate.Linear_dense    [768, 3072]   \n",
      "85_bert.encoder.layer.6.intermediate.GELUActiva...             -   \n",
      "86_bert.encoder.layer.6.output.Linear_dense          [3072, 768]   \n",
      "87_bert.encoder.layer.6.output.Dropout_dropout                 -   \n",
      "88_bert.encoder.layer.6.output.LayerNorm_LayerNorm         [768]   \n",
      "89_bert.encoder.layer.7.attention.self.Linear_q...    [768, 768]   \n",
      "90_bert.encoder.layer.7.attention.self.Linear_key     [768, 768]   \n",
      "91_bert.encoder.layer.7.attention.self.Linear_v...    [768, 768]   \n",
      "92_bert.encoder.layer.7.attention.self.Dropout_...             -   \n",
      "93_bert.encoder.layer.7.attention.output.Linear...    [768, 768]   \n",
      "94_bert.encoder.layer.7.attention.output.Dropou...             -   \n",
      "95_bert.encoder.layer.7.attention.output.LayerN...         [768]   \n",
      "96_bert.encoder.layer.7.intermediate.Linear_dense    [768, 3072]   \n",
      "97_bert.encoder.layer.7.intermediate.GELUActiva...             -   \n",
      "98_bert.encoder.layer.7.output.Linear_dense          [3072, 768]   \n",
      "99_bert.encoder.layer.7.output.Dropout_dropout                 -   \n",
      "100_bert.encoder.layer.7.output.LayerNorm_Layer...         [768]   \n",
      "101_bert.encoder.layer.8.attention.self.Linear_...    [768, 768]   \n",
      "102_bert.encoder.layer.8.attention.self.Linear_key    [768, 768]   \n",
      "103_bert.encoder.layer.8.attention.self.Linear_...    [768, 768]   \n",
      "104_bert.encoder.layer.8.attention.self.Dropout...             -   \n",
      "105_bert.encoder.layer.8.attention.output.Linea...    [768, 768]   \n",
      "106_bert.encoder.layer.8.attention.output.Dropo...             -   \n",
      "107_bert.encoder.layer.8.attention.output.Layer...         [768]   \n",
      "108_bert.encoder.layer.8.intermediate.Linear_dense   [768, 3072]   \n",
      "109_bert.encoder.layer.8.intermediate.GELUActiv...             -   \n",
      "110_bert.encoder.layer.8.output.Linear_dense         [3072, 768]   \n",
      "111_bert.encoder.layer.8.output.Dropout_dropout                -   \n",
      "112_bert.encoder.layer.8.output.LayerNorm_Layer...         [768]   \n",
      "113_bert.encoder.layer.9.attention.self.Linear_...    [768, 768]   \n",
      "114_bert.encoder.layer.9.attention.self.Linear_key    [768, 768]   \n",
      "115_bert.encoder.layer.9.attention.self.Linear_...    [768, 768]   \n",
      "116_bert.encoder.layer.9.attention.self.Dropout...             -   \n",
      "117_bert.encoder.layer.9.attention.output.Linea...    [768, 768]   \n",
      "118_bert.encoder.layer.9.attention.output.Dropo...             -   \n",
      "119_bert.encoder.layer.9.attention.output.Layer...         [768]   \n",
      "120_bert.encoder.layer.9.intermediate.Linear_dense   [768, 3072]   \n",
      "121_bert.encoder.layer.9.intermediate.GELUActiv...             -   \n",
      "122_bert.encoder.layer.9.output.Linear_dense         [3072, 768]   \n",
      "123_bert.encoder.layer.9.output.Dropout_dropout                -   \n",
      "124_bert.encoder.layer.9.output.LayerNorm_Layer...         [768]   \n",
      "125_bert.encoder.layer.10.attention.self.Linear...    [768, 768]   \n",
      "126_bert.encoder.layer.10.attention.self.Linear...    [768, 768]   \n",
      "127_bert.encoder.layer.10.attention.self.Linear...    [768, 768]   \n",
      "128_bert.encoder.layer.10.attention.self.Dropou...             -   \n",
      "129_bert.encoder.layer.10.attention.output.Line...    [768, 768]   \n",
      "130_bert.encoder.layer.10.attention.output.Drop...             -   \n",
      "131_bert.encoder.layer.10.attention.output.Laye...         [768]   \n",
      "132_bert.encoder.layer.10.intermediate.Linear_d...   [768, 3072]   \n",
      "133_bert.encoder.layer.10.intermediate.GELUActi...             -   \n",
      "134_bert.encoder.layer.10.output.Linear_dense        [3072, 768]   \n",
      "135_bert.encoder.layer.10.output.Dropout_dropout               -   \n",
      "136_bert.encoder.layer.10.output.LayerNorm_Laye...         [768]   \n",
      "137_bert.encoder.layer.11.attention.self.Linear...    [768, 768]   \n",
      "138_bert.encoder.layer.11.attention.self.Linear...    [768, 768]   \n",
      "139_bert.encoder.layer.11.attention.self.Linear...    [768, 768]   \n",
      "140_bert.encoder.layer.11.attention.self.Dropou...             -   \n",
      "141_bert.encoder.layer.11.attention.output.Line...    [768, 768]   \n",
      "142_bert.encoder.layer.11.attention.output.Drop...             -   \n",
      "143_bert.encoder.layer.11.attention.output.Laye...         [768]   \n",
      "144_bert.encoder.layer.11.intermediate.Linear_d...   [768, 3072]   \n",
      "145_bert.encoder.layer.11.intermediate.GELUActi...             -   \n",
      "146_bert.encoder.layer.11.output.Linear_dense        [3072, 768]   \n",
      "147_bert.encoder.layer.11.output.Dropout_dropout               -   \n",
      "148_bert.encoder.layer.11.output.LayerNorm_Laye...         [768]   \n",
      "149_bert.pooler.Linear_dense                          [768, 768]   \n",
      "150_bert.pooler.Tanh_activation                                -   \n",
      "151_drop                                                       -   \n",
      "152_fc                                                  [768, 2]   \n",
      "153_sf                                                         -   \n",
      "\n",
      "                                                          Output Shape  \\\n",
      "Layer                                                                    \n",
      "0_bert.embeddings.Embedding_word_embeddings             [16, 400, 768]   \n",
      "1_bert.embeddings.Embedding_token_type_embeddings       [16, 400, 768]   \n",
      "2_bert.embeddings.Embedding_position_embeddings          [1, 400, 768]   \n",
      "3_bert.embeddings.LayerNorm_LayerNorm                   [16, 400, 768]   \n",
      "4_bert.embeddings.Dropout_dropout                       [16, 400, 768]   \n",
      "5_bert.encoder.layer.0.attention.self.Linear_query      [16, 400, 768]   \n",
      "6_bert.encoder.layer.0.attention.self.Linear_key        [16, 400, 768]   \n",
      "7_bert.encoder.layer.0.attention.self.Linear_value      [16, 400, 768]   \n",
      "8_bert.encoder.layer.0.attention.self.Dropout_d...  [16, 12, 400, 400]   \n",
      "9_bert.encoder.layer.0.attention.output.Linear_...      [16, 400, 768]   \n",
      "10_bert.encoder.layer.0.attention.output.Dropou...      [16, 400, 768]   \n",
      "11_bert.encoder.layer.0.attention.output.LayerN...      [16, 400, 768]   \n",
      "12_bert.encoder.layer.0.intermediate.Linear_dense      [16, 400, 3072]   \n",
      "13_bert.encoder.layer.0.intermediate.GELUActiva...     [16, 400, 3072]   \n",
      "14_bert.encoder.layer.0.output.Linear_dense             [16, 400, 768]   \n",
      "15_bert.encoder.layer.0.output.Dropout_dropout          [16, 400, 768]   \n",
      "16_bert.encoder.layer.0.output.LayerNorm_LayerNorm      [16, 400, 768]   \n",
      "17_bert.encoder.layer.1.attention.self.Linear_q...      [16, 400, 768]   \n",
      "18_bert.encoder.layer.1.attention.self.Linear_key       [16, 400, 768]   \n",
      "19_bert.encoder.layer.1.attention.self.Linear_v...      [16, 400, 768]   \n",
      "20_bert.encoder.layer.1.attention.self.Dropout_...  [16, 12, 400, 400]   \n",
      "21_bert.encoder.layer.1.attention.output.Linear...      [16, 400, 768]   \n",
      "22_bert.encoder.layer.1.attention.output.Dropou...      [16, 400, 768]   \n",
      "23_bert.encoder.layer.1.attention.output.LayerN...      [16, 400, 768]   \n",
      "24_bert.encoder.layer.1.intermediate.Linear_dense      [16, 400, 3072]   \n",
      "25_bert.encoder.layer.1.intermediate.GELUActiva...     [16, 400, 3072]   \n",
      "26_bert.encoder.layer.1.output.Linear_dense             [16, 400, 768]   \n",
      "27_bert.encoder.layer.1.output.Dropout_dropout          [16, 400, 768]   \n",
      "28_bert.encoder.layer.1.output.LayerNorm_LayerNorm      [16, 400, 768]   \n",
      "29_bert.encoder.layer.2.attention.self.Linear_q...      [16, 400, 768]   \n",
      "30_bert.encoder.layer.2.attention.self.Linear_key       [16, 400, 768]   \n",
      "31_bert.encoder.layer.2.attention.self.Linear_v...      [16, 400, 768]   \n",
      "32_bert.encoder.layer.2.attention.self.Dropout_...  [16, 12, 400, 400]   \n",
      "33_bert.encoder.layer.2.attention.output.Linear...      [16, 400, 768]   \n",
      "34_bert.encoder.layer.2.attention.output.Dropou...      [16, 400, 768]   \n",
      "35_bert.encoder.layer.2.attention.output.LayerN...      [16, 400, 768]   \n",
      "36_bert.encoder.layer.2.intermediate.Linear_dense      [16, 400, 3072]   \n",
      "37_bert.encoder.layer.2.intermediate.GELUActiva...     [16, 400, 3072]   \n",
      "38_bert.encoder.layer.2.output.Linear_dense             [16, 400, 768]   \n",
      "39_bert.encoder.layer.2.output.Dropout_dropout          [16, 400, 768]   \n",
      "40_bert.encoder.layer.2.output.LayerNorm_LayerNorm      [16, 400, 768]   \n",
      "41_bert.encoder.layer.3.attention.self.Linear_q...      [16, 400, 768]   \n",
      "42_bert.encoder.layer.3.attention.self.Linear_key       [16, 400, 768]   \n",
      "43_bert.encoder.layer.3.attention.self.Linear_v...      [16, 400, 768]   \n",
      "44_bert.encoder.layer.3.attention.self.Dropout_...  [16, 12, 400, 400]   \n",
      "45_bert.encoder.layer.3.attention.output.Linear...      [16, 400, 768]   \n",
      "46_bert.encoder.layer.3.attention.output.Dropou...      [16, 400, 768]   \n",
      "47_bert.encoder.layer.3.attention.output.LayerN...      [16, 400, 768]   \n",
      "48_bert.encoder.layer.3.intermediate.Linear_dense      [16, 400, 3072]   \n",
      "49_bert.encoder.layer.3.intermediate.GELUActiva...     [16, 400, 3072]   \n",
      "50_bert.encoder.layer.3.output.Linear_dense             [16, 400, 768]   \n",
      "51_bert.encoder.layer.3.output.Dropout_dropout          [16, 400, 768]   \n",
      "52_bert.encoder.layer.3.output.LayerNorm_LayerNorm      [16, 400, 768]   \n",
      "53_bert.encoder.layer.4.attention.self.Linear_q...      [16, 400, 768]   \n",
      "54_bert.encoder.layer.4.attention.self.Linear_key       [16, 400, 768]   \n",
      "55_bert.encoder.layer.4.attention.self.Linear_v...      [16, 400, 768]   \n",
      "56_bert.encoder.layer.4.attention.self.Dropout_...  [16, 12, 400, 400]   \n",
      "57_bert.encoder.layer.4.attention.output.Linear...      [16, 400, 768]   \n",
      "58_bert.encoder.layer.4.attention.output.Dropou...      [16, 400, 768]   \n",
      "59_bert.encoder.layer.4.attention.output.LayerN...      [16, 400, 768]   \n",
      "60_bert.encoder.layer.4.intermediate.Linear_dense      [16, 400, 3072]   \n",
      "61_bert.encoder.layer.4.intermediate.GELUActiva...     [16, 400, 3072]   \n",
      "62_bert.encoder.layer.4.output.Linear_dense             [16, 400, 768]   \n",
      "63_bert.encoder.layer.4.output.Dropout_dropout          [16, 400, 768]   \n",
      "64_bert.encoder.layer.4.output.LayerNorm_LayerNorm      [16, 400, 768]   \n",
      "65_bert.encoder.layer.5.attention.self.Linear_q...      [16, 400, 768]   \n",
      "66_bert.encoder.layer.5.attention.self.Linear_key       [16, 400, 768]   \n",
      "67_bert.encoder.layer.5.attention.self.Linear_v...      [16, 400, 768]   \n",
      "68_bert.encoder.layer.5.attention.self.Dropout_...  [16, 12, 400, 400]   \n",
      "69_bert.encoder.layer.5.attention.output.Linear...      [16, 400, 768]   \n",
      "70_bert.encoder.layer.5.attention.output.Dropou...      [16, 400, 768]   \n",
      "71_bert.encoder.layer.5.attention.output.LayerN...      [16, 400, 768]   \n",
      "72_bert.encoder.layer.5.intermediate.Linear_dense      [16, 400, 3072]   \n",
      "73_bert.encoder.layer.5.intermediate.GELUActiva...     [16, 400, 3072]   \n",
      "74_bert.encoder.layer.5.output.Linear_dense             [16, 400, 768]   \n",
      "75_bert.encoder.layer.5.output.Dropout_dropout          [16, 400, 768]   \n",
      "76_bert.encoder.layer.5.output.LayerNorm_LayerNorm      [16, 400, 768]   \n",
      "77_bert.encoder.layer.6.attention.self.Linear_q...      [16, 400, 768]   \n",
      "78_bert.encoder.layer.6.attention.self.Linear_key       [16, 400, 768]   \n",
      "79_bert.encoder.layer.6.attention.self.Linear_v...      [16, 400, 768]   \n",
      "80_bert.encoder.layer.6.attention.self.Dropout_...  [16, 12, 400, 400]   \n",
      "81_bert.encoder.layer.6.attention.output.Linear...      [16, 400, 768]   \n",
      "82_bert.encoder.layer.6.attention.output.Dropou...      [16, 400, 768]   \n",
      "83_bert.encoder.layer.6.attention.output.LayerN...      [16, 400, 768]   \n",
      "84_bert.encoder.layer.6.intermediate.Linear_dense      [16, 400, 3072]   \n",
      "85_bert.encoder.layer.6.intermediate.GELUActiva...     [16, 400, 3072]   \n",
      "86_bert.encoder.layer.6.output.Linear_dense             [16, 400, 768]   \n",
      "87_bert.encoder.layer.6.output.Dropout_dropout          [16, 400, 768]   \n",
      "88_bert.encoder.layer.6.output.LayerNorm_LayerNorm      [16, 400, 768]   \n",
      "89_bert.encoder.layer.7.attention.self.Linear_q...      [16, 400, 768]   \n",
      "90_bert.encoder.layer.7.attention.self.Linear_key       [16, 400, 768]   \n",
      "91_bert.encoder.layer.7.attention.self.Linear_v...      [16, 400, 768]   \n",
      "92_bert.encoder.layer.7.attention.self.Dropout_...  [16, 12, 400, 400]   \n",
      "93_bert.encoder.layer.7.attention.output.Linear...      [16, 400, 768]   \n",
      "94_bert.encoder.layer.7.attention.output.Dropou...      [16, 400, 768]   \n",
      "95_bert.encoder.layer.7.attention.output.LayerN...      [16, 400, 768]   \n",
      "96_bert.encoder.layer.7.intermediate.Linear_dense      [16, 400, 3072]   \n",
      "97_bert.encoder.layer.7.intermediate.GELUActiva...     [16, 400, 3072]   \n",
      "98_bert.encoder.layer.7.output.Linear_dense             [16, 400, 768]   \n",
      "99_bert.encoder.layer.7.output.Dropout_dropout          [16, 400, 768]   \n",
      "100_bert.encoder.layer.7.output.LayerNorm_Layer...      [16, 400, 768]   \n",
      "101_bert.encoder.layer.8.attention.self.Linear_...      [16, 400, 768]   \n",
      "102_bert.encoder.layer.8.attention.self.Linear_key      [16, 400, 768]   \n",
      "103_bert.encoder.layer.8.attention.self.Linear_...      [16, 400, 768]   \n",
      "104_bert.encoder.layer.8.attention.self.Dropout...  [16, 12, 400, 400]   \n",
      "105_bert.encoder.layer.8.attention.output.Linea...      [16, 400, 768]   \n",
      "106_bert.encoder.layer.8.attention.output.Dropo...      [16, 400, 768]   \n",
      "107_bert.encoder.layer.8.attention.output.Layer...      [16, 400, 768]   \n",
      "108_bert.encoder.layer.8.intermediate.Linear_dense     [16, 400, 3072]   \n",
      "109_bert.encoder.layer.8.intermediate.GELUActiv...     [16, 400, 3072]   \n",
      "110_bert.encoder.layer.8.output.Linear_dense            [16, 400, 768]   \n",
      "111_bert.encoder.layer.8.output.Dropout_dropout         [16, 400, 768]   \n",
      "112_bert.encoder.layer.8.output.LayerNorm_Layer...      [16, 400, 768]   \n",
      "113_bert.encoder.layer.9.attention.self.Linear_...      [16, 400, 768]   \n",
      "114_bert.encoder.layer.9.attention.self.Linear_key      [16, 400, 768]   \n",
      "115_bert.encoder.layer.9.attention.self.Linear_...      [16, 400, 768]   \n",
      "116_bert.encoder.layer.9.attention.self.Dropout...  [16, 12, 400, 400]   \n",
      "117_bert.encoder.layer.9.attention.output.Linea...      [16, 400, 768]   \n",
      "118_bert.encoder.layer.9.attention.output.Dropo...      [16, 400, 768]   \n",
      "119_bert.encoder.layer.9.attention.output.Layer...      [16, 400, 768]   \n",
      "120_bert.encoder.layer.9.intermediate.Linear_dense     [16, 400, 3072]   \n",
      "121_bert.encoder.layer.9.intermediate.GELUActiv...     [16, 400, 3072]   \n",
      "122_bert.encoder.layer.9.output.Linear_dense            [16, 400, 768]   \n",
      "123_bert.encoder.layer.9.output.Dropout_dropout         [16, 400, 768]   \n",
      "124_bert.encoder.layer.9.output.LayerNorm_Layer...      [16, 400, 768]   \n",
      "125_bert.encoder.layer.10.attention.self.Linear...      [16, 400, 768]   \n",
      "126_bert.encoder.layer.10.attention.self.Linear...      [16, 400, 768]   \n",
      "127_bert.encoder.layer.10.attention.self.Linear...      [16, 400, 768]   \n",
      "128_bert.encoder.layer.10.attention.self.Dropou...  [16, 12, 400, 400]   \n",
      "129_bert.encoder.layer.10.attention.output.Line...      [16, 400, 768]   \n",
      "130_bert.encoder.layer.10.attention.output.Drop...      [16, 400, 768]   \n",
      "131_bert.encoder.layer.10.attention.output.Laye...      [16, 400, 768]   \n",
      "132_bert.encoder.layer.10.intermediate.Linear_d...     [16, 400, 3072]   \n",
      "133_bert.encoder.layer.10.intermediate.GELUActi...     [16, 400, 3072]   \n",
      "134_bert.encoder.layer.10.output.Linear_dense           [16, 400, 768]   \n",
      "135_bert.encoder.layer.10.output.Dropout_dropout        [16, 400, 768]   \n",
      "136_bert.encoder.layer.10.output.LayerNorm_Laye...      [16, 400, 768]   \n",
      "137_bert.encoder.layer.11.attention.self.Linear...      [16, 400, 768]   \n",
      "138_bert.encoder.layer.11.attention.self.Linear...      [16, 400, 768]   \n",
      "139_bert.encoder.layer.11.attention.self.Linear...      [16, 400, 768]   \n",
      "140_bert.encoder.layer.11.attention.self.Dropou...  [16, 12, 400, 400]   \n",
      "141_bert.encoder.layer.11.attention.output.Line...      [16, 400, 768]   \n",
      "142_bert.encoder.layer.11.attention.output.Drop...      [16, 400, 768]   \n",
      "143_bert.encoder.layer.11.attention.output.Laye...      [16, 400, 768]   \n",
      "144_bert.encoder.layer.11.intermediate.Linear_d...     [16, 400, 3072]   \n",
      "145_bert.encoder.layer.11.intermediate.GELUActi...     [16, 400, 3072]   \n",
      "146_bert.encoder.layer.11.output.Linear_dense           [16, 400, 768]   \n",
      "147_bert.encoder.layer.11.output.Dropout_dropout        [16, 400, 768]   \n",
      "148_bert.encoder.layer.11.output.LayerNorm_Laye...      [16, 400, 768]   \n",
      "149_bert.pooler.Linear_dense                                 [16, 768]   \n",
      "150_bert.pooler.Tanh_activation                              [16, 768]   \n",
      "151_drop                                                     [16, 768]   \n",
      "152_fc                                                         [16, 2]   \n",
      "153_sf                                                         [16, 2]   \n",
      "\n",
      "                                                        Params   Mult-Adds  \n",
      "Layer                                                                       \n",
      "0_bert.embeddings.Embedding_word_embeddings         22.268928M  22.268928M  \n",
      "1_bert.embeddings.Embedding_token_type_embeddings       1.536k      1.536k  \n",
      "2_bert.embeddings.Embedding_position_embeddings       393.216k    393.216k  \n",
      "3_bert.embeddings.LayerNorm_LayerNorm                   1.536k       768.0  \n",
      "4_bert.embeddings.Dropout_dropout                            -           -  \n",
      "5_bert.encoder.layer.0.attention.self.Linear_query    590.592k    589.824k  \n",
      "6_bert.encoder.layer.0.attention.self.Linear_key      590.592k    589.824k  \n",
      "7_bert.encoder.layer.0.attention.self.Linear_value    590.592k    589.824k  \n",
      "8_bert.encoder.layer.0.attention.self.Dropout_d...           -           -  \n",
      "9_bert.encoder.layer.0.attention.output.Linear_...    590.592k    589.824k  \n",
      "10_bert.encoder.layer.0.attention.output.Dropou...           -           -  \n",
      "11_bert.encoder.layer.0.attention.output.LayerN...      1.536k       768.0  \n",
      "12_bert.encoder.layer.0.intermediate.Linear_dense    2.362368M   2.359296M  \n",
      "13_bert.encoder.layer.0.intermediate.GELUActiva...           -           -  \n",
      "14_bert.encoder.layer.0.output.Linear_dense          2.360064M   2.359296M  \n",
      "15_bert.encoder.layer.0.output.Dropout_dropout               -           -  \n",
      "16_bert.encoder.layer.0.output.LayerNorm_LayerNorm      1.536k       768.0  \n",
      "17_bert.encoder.layer.1.attention.self.Linear_q...    590.592k    589.824k  \n",
      "18_bert.encoder.layer.1.attention.self.Linear_key     590.592k    589.824k  \n",
      "19_bert.encoder.layer.1.attention.self.Linear_v...    590.592k    589.824k  \n",
      "20_bert.encoder.layer.1.attention.self.Dropout_...           -           -  \n",
      "21_bert.encoder.layer.1.attention.output.Linear...    590.592k    589.824k  \n",
      "22_bert.encoder.layer.1.attention.output.Dropou...           -           -  \n",
      "23_bert.encoder.layer.1.attention.output.LayerN...      1.536k       768.0  \n",
      "24_bert.encoder.layer.1.intermediate.Linear_dense    2.362368M   2.359296M  \n",
      "25_bert.encoder.layer.1.intermediate.GELUActiva...           -           -  \n",
      "26_bert.encoder.layer.1.output.Linear_dense          2.360064M   2.359296M  \n",
      "27_bert.encoder.layer.1.output.Dropout_dropout               -           -  \n",
      "28_bert.encoder.layer.1.output.LayerNorm_LayerNorm      1.536k       768.0  \n",
      "29_bert.encoder.layer.2.attention.self.Linear_q...    590.592k    589.824k  \n",
      "30_bert.encoder.layer.2.attention.self.Linear_key     590.592k    589.824k  \n",
      "31_bert.encoder.layer.2.attention.self.Linear_v...    590.592k    589.824k  \n",
      "32_bert.encoder.layer.2.attention.self.Dropout_...           -           -  \n",
      "33_bert.encoder.layer.2.attention.output.Linear...    590.592k    589.824k  \n",
      "34_bert.encoder.layer.2.attention.output.Dropou...           -           -  \n",
      "35_bert.encoder.layer.2.attention.output.LayerN...      1.536k       768.0  \n",
      "36_bert.encoder.layer.2.intermediate.Linear_dense    2.362368M   2.359296M  \n",
      "37_bert.encoder.layer.2.intermediate.GELUActiva...           -           -  \n",
      "38_bert.encoder.layer.2.output.Linear_dense          2.360064M   2.359296M  \n",
      "39_bert.encoder.layer.2.output.Dropout_dropout               -           -  \n",
      "40_bert.encoder.layer.2.output.LayerNorm_LayerNorm      1.536k       768.0  \n",
      "41_bert.encoder.layer.3.attention.self.Linear_q...    590.592k    589.824k  \n",
      "42_bert.encoder.layer.3.attention.self.Linear_key     590.592k    589.824k  \n",
      "43_bert.encoder.layer.3.attention.self.Linear_v...    590.592k    589.824k  \n",
      "44_bert.encoder.layer.3.attention.self.Dropout_...           -           -  \n",
      "45_bert.encoder.layer.3.attention.output.Linear...    590.592k    589.824k  \n",
      "46_bert.encoder.layer.3.attention.output.Dropou...           -           -  \n",
      "47_bert.encoder.layer.3.attention.output.LayerN...      1.536k       768.0  \n",
      "48_bert.encoder.layer.3.intermediate.Linear_dense    2.362368M   2.359296M  \n",
      "49_bert.encoder.layer.3.intermediate.GELUActiva...           -           -  \n",
      "50_bert.encoder.layer.3.output.Linear_dense          2.360064M   2.359296M  \n",
      "51_bert.encoder.layer.3.output.Dropout_dropout               -           -  \n",
      "52_bert.encoder.layer.3.output.LayerNorm_LayerNorm      1.536k       768.0  \n",
      "53_bert.encoder.layer.4.attention.self.Linear_q...    590.592k    589.824k  \n",
      "54_bert.encoder.layer.4.attention.self.Linear_key     590.592k    589.824k  \n",
      "55_bert.encoder.layer.4.attention.self.Linear_v...    590.592k    589.824k  \n",
      "56_bert.encoder.layer.4.attention.self.Dropout_...           -           -  \n",
      "57_bert.encoder.layer.4.attention.output.Linear...    590.592k    589.824k  \n",
      "58_bert.encoder.layer.4.attention.output.Dropou...           -           -  \n",
      "59_bert.encoder.layer.4.attention.output.LayerN...      1.536k       768.0  \n",
      "60_bert.encoder.layer.4.intermediate.Linear_dense    2.362368M   2.359296M  \n",
      "61_bert.encoder.layer.4.intermediate.GELUActiva...           -           -  \n",
      "62_bert.encoder.layer.4.output.Linear_dense          2.360064M   2.359296M  \n",
      "63_bert.encoder.layer.4.output.Dropout_dropout               -           -  \n",
      "64_bert.encoder.layer.4.output.LayerNorm_LayerNorm      1.536k       768.0  \n",
      "65_bert.encoder.layer.5.attention.self.Linear_q...    590.592k    589.824k  \n",
      "66_bert.encoder.layer.5.attention.self.Linear_key     590.592k    589.824k  \n",
      "67_bert.encoder.layer.5.attention.self.Linear_v...    590.592k    589.824k  \n",
      "68_bert.encoder.layer.5.attention.self.Dropout_...           -           -  \n",
      "69_bert.encoder.layer.5.attention.output.Linear...    590.592k    589.824k  \n",
      "70_bert.encoder.layer.5.attention.output.Dropou...           -           -  \n",
      "71_bert.encoder.layer.5.attention.output.LayerN...      1.536k       768.0  \n",
      "72_bert.encoder.layer.5.intermediate.Linear_dense    2.362368M   2.359296M  \n",
      "73_bert.encoder.layer.5.intermediate.GELUActiva...           -           -  \n",
      "74_bert.encoder.layer.5.output.Linear_dense          2.360064M   2.359296M  \n",
      "75_bert.encoder.layer.5.output.Dropout_dropout               -           -  \n",
      "76_bert.encoder.layer.5.output.LayerNorm_LayerNorm      1.536k       768.0  \n",
      "77_bert.encoder.layer.6.attention.self.Linear_q...    590.592k    589.824k  \n",
      "78_bert.encoder.layer.6.attention.self.Linear_key     590.592k    589.824k  \n",
      "79_bert.encoder.layer.6.attention.self.Linear_v...    590.592k    589.824k  \n",
      "80_bert.encoder.layer.6.attention.self.Dropout_...           -           -  \n",
      "81_bert.encoder.layer.6.attention.output.Linear...    590.592k    589.824k  \n",
      "82_bert.encoder.layer.6.attention.output.Dropou...           -           -  \n",
      "83_bert.encoder.layer.6.attention.output.LayerN...      1.536k       768.0  \n",
      "84_bert.encoder.layer.6.intermediate.Linear_dense    2.362368M   2.359296M  \n",
      "85_bert.encoder.layer.6.intermediate.GELUActiva...           -           -  \n",
      "86_bert.encoder.layer.6.output.Linear_dense          2.360064M   2.359296M  \n",
      "87_bert.encoder.layer.6.output.Dropout_dropout               -           -  \n",
      "88_bert.encoder.layer.6.output.LayerNorm_LayerNorm      1.536k       768.0  \n",
      "89_bert.encoder.layer.7.attention.self.Linear_q...    590.592k    589.824k  \n",
      "90_bert.encoder.layer.7.attention.self.Linear_key     590.592k    589.824k  \n",
      "91_bert.encoder.layer.7.attention.self.Linear_v...    590.592k    589.824k  \n",
      "92_bert.encoder.layer.7.attention.self.Dropout_...           -           -  \n",
      "93_bert.encoder.layer.7.attention.output.Linear...    590.592k    589.824k  \n",
      "94_bert.encoder.layer.7.attention.output.Dropou...           -           -  \n",
      "95_bert.encoder.layer.7.attention.output.LayerN...      1.536k       768.0  \n",
      "96_bert.encoder.layer.7.intermediate.Linear_dense    2.362368M   2.359296M  \n",
      "97_bert.encoder.layer.7.intermediate.GELUActiva...           -           -  \n",
      "98_bert.encoder.layer.7.output.Linear_dense          2.360064M   2.359296M  \n",
      "99_bert.encoder.layer.7.output.Dropout_dropout               -           -  \n",
      "100_bert.encoder.layer.7.output.LayerNorm_Layer...      1.536k       768.0  \n",
      "101_bert.encoder.layer.8.attention.self.Linear_...    590.592k    589.824k  \n",
      "102_bert.encoder.layer.8.attention.self.Linear_key    590.592k    589.824k  \n",
      "103_bert.encoder.layer.8.attention.self.Linear_...    590.592k    589.824k  \n",
      "104_bert.encoder.layer.8.attention.self.Dropout...           -           -  \n",
      "105_bert.encoder.layer.8.attention.output.Linea...    590.592k    589.824k  \n",
      "106_bert.encoder.layer.8.attention.output.Dropo...           -           -  \n",
      "107_bert.encoder.layer.8.attention.output.Layer...      1.536k       768.0  \n",
      "108_bert.encoder.layer.8.intermediate.Linear_dense   2.362368M   2.359296M  \n",
      "109_bert.encoder.layer.8.intermediate.GELUActiv...           -           -  \n",
      "110_bert.encoder.layer.8.output.Linear_dense         2.360064M   2.359296M  \n",
      "111_bert.encoder.layer.8.output.Dropout_dropout              -           -  \n",
      "112_bert.encoder.layer.8.output.LayerNorm_Layer...      1.536k       768.0  \n",
      "113_bert.encoder.layer.9.attention.self.Linear_...    590.592k    589.824k  \n",
      "114_bert.encoder.layer.9.attention.self.Linear_key    590.592k    589.824k  \n",
      "115_bert.encoder.layer.9.attention.self.Linear_...    590.592k    589.824k  \n",
      "116_bert.encoder.layer.9.attention.self.Dropout...           -           -  \n",
      "117_bert.encoder.layer.9.attention.output.Linea...    590.592k    589.824k  \n",
      "118_bert.encoder.layer.9.attention.output.Dropo...           -           -  \n",
      "119_bert.encoder.layer.9.attention.output.Layer...      1.536k       768.0  \n",
      "120_bert.encoder.layer.9.intermediate.Linear_dense   2.362368M   2.359296M  \n",
      "121_bert.encoder.layer.9.intermediate.GELUActiv...           -           -  \n",
      "122_bert.encoder.layer.9.output.Linear_dense         2.360064M   2.359296M  \n",
      "123_bert.encoder.layer.9.output.Dropout_dropout              -           -  \n",
      "124_bert.encoder.layer.9.output.LayerNorm_Layer...      1.536k       768.0  \n",
      "125_bert.encoder.layer.10.attention.self.Linear...    590.592k    589.824k  \n",
      "126_bert.encoder.layer.10.attention.self.Linear...    590.592k    589.824k  \n",
      "127_bert.encoder.layer.10.attention.self.Linear...    590.592k    589.824k  \n",
      "128_bert.encoder.layer.10.attention.self.Dropou...           -           -  \n",
      "129_bert.encoder.layer.10.attention.output.Line...    590.592k    589.824k  \n",
      "130_bert.encoder.layer.10.attention.output.Drop...           -           -  \n",
      "131_bert.encoder.layer.10.attention.output.Laye...      1.536k       768.0  \n",
      "132_bert.encoder.layer.10.intermediate.Linear_d...   2.362368M   2.359296M  \n",
      "133_bert.encoder.layer.10.intermediate.GELUActi...           -           -  \n",
      "134_bert.encoder.layer.10.output.Linear_dense        2.360064M   2.359296M  \n",
      "135_bert.encoder.layer.10.output.Dropout_dropout             -           -  \n",
      "136_bert.encoder.layer.10.output.LayerNorm_Laye...      1.536k       768.0  \n",
      "137_bert.encoder.layer.11.attention.self.Linear...    590.592k    589.824k  \n",
      "138_bert.encoder.layer.11.attention.self.Linear...    590.592k    589.824k  \n",
      "139_bert.encoder.layer.11.attention.self.Linear...    590.592k    589.824k  \n",
      "140_bert.encoder.layer.11.attention.self.Dropou...           -           -  \n",
      "141_bert.encoder.layer.11.attention.output.Line...    590.592k    589.824k  \n",
      "142_bert.encoder.layer.11.attention.output.Drop...           -           -  \n",
      "143_bert.encoder.layer.11.attention.output.Laye...      1.536k       768.0  \n",
      "144_bert.encoder.layer.11.intermediate.Linear_d...   2.362368M   2.359296M  \n",
      "145_bert.encoder.layer.11.intermediate.GELUActi...           -           -  \n",
      "146_bert.encoder.layer.11.output.Linear_dense        2.360064M   2.359296M  \n",
      "147_bert.encoder.layer.11.output.Dropout_dropout             -           -  \n",
      "148_bert.encoder.layer.11.output.LayerNorm_Laye...      1.536k       768.0  \n",
      "149_bert.pooler.Linear_dense                          590.592k    589.824k  \n",
      "150_bert.pooler.Tanh_activation                              -           -  \n",
      "151_drop                                                     -           -  \n",
      "152_fc                                                  1.538k      1.536k  \n",
      "153_sf                                                       -           -  \n",
      "-----------------------------------------------------------------------------------------------------------------------------------\n",
      "                           Totals\n",
      "Total params           108.31181M\n",
      "Trainable params       108.31181M\n",
      "Non-trainable params          0.0\n",
      "Mult-Adds             108.208896M\n",
      "===================================================================================================================================\n"
     ]
    },
    {
     "data": {
      "text/html": [
       "<div>\n",
       "<style scoped>\n",
       "    .dataframe tbody tr th:only-of-type {\n",
       "        vertical-align: middle;\n",
       "    }\n",
       "\n",
       "    .dataframe tbody tr th {\n",
       "        vertical-align: top;\n",
       "    }\n",
       "\n",
       "    .dataframe thead th {\n",
       "        text-align: right;\n",
       "    }\n",
       "</style>\n",
       "<table border=\"1\" class=\"dataframe\">\n",
       "  <thead>\n",
       "    <tr style=\"text-align: right;\">\n",
       "      <th></th>\n",
       "      <th>Kernel Shape</th>\n",
       "      <th>Output Shape</th>\n",
       "      <th>Params</th>\n",
       "      <th>Mult-Adds</th>\n",
       "    </tr>\n",
       "    <tr>\n",
       "      <th>Layer</th>\n",
       "      <th></th>\n",
       "      <th></th>\n",
       "      <th></th>\n",
       "      <th></th>\n",
       "    </tr>\n",
       "  </thead>\n",
       "  <tbody>\n",
       "    <tr>\n",
       "      <th>0_bert.embeddings.Embedding_word_embeddings</th>\n",
       "      <td>[768, 28996]</td>\n",
       "      <td>[16, 400, 768]</td>\n",
       "      <td>22268928.0</td>\n",
       "      <td>22268928.0</td>\n",
       "    </tr>\n",
       "    <tr>\n",
       "      <th>1_bert.embeddings.Embedding_token_type_embeddings</th>\n",
       "      <td>[768, 2]</td>\n",
       "      <td>[16, 400, 768]</td>\n",
       "      <td>1536.0</td>\n",
       "      <td>1536.0</td>\n",
       "    </tr>\n",
       "    <tr>\n",
       "      <th>2_bert.embeddings.Embedding_position_embeddings</th>\n",
       "      <td>[768, 512]</td>\n",
       "      <td>[1, 400, 768]</td>\n",
       "      <td>393216.0</td>\n",
       "      <td>393216.0</td>\n",
       "    </tr>\n",
       "    <tr>\n",
       "      <th>3_bert.embeddings.LayerNorm_LayerNorm</th>\n",
       "      <td>[768]</td>\n",
       "      <td>[16, 400, 768]</td>\n",
       "      <td>1536.0</td>\n",
       "      <td>768.0</td>\n",
       "    </tr>\n",
       "    <tr>\n",
       "      <th>4_bert.embeddings.Dropout_dropout</th>\n",
       "      <td>-</td>\n",
       "      <td>[16, 400, 768]</td>\n",
       "      <td>NaN</td>\n",
       "      <td>NaN</td>\n",
       "    </tr>\n",
       "    <tr>\n",
       "      <th>...</th>\n",
       "      <td>...</td>\n",
       "      <td>...</td>\n",
       "      <td>...</td>\n",
       "      <td>...</td>\n",
       "    </tr>\n",
       "    <tr>\n",
       "      <th>149_bert.pooler.Linear_dense</th>\n",
       "      <td>[768, 768]</td>\n",
       "      <td>[16, 768]</td>\n",
       "      <td>590592.0</td>\n",
       "      <td>589824.0</td>\n",
       "    </tr>\n",
       "    <tr>\n",
       "      <th>150_bert.pooler.Tanh_activation</th>\n",
       "      <td>-</td>\n",
       "      <td>[16, 768]</td>\n",
       "      <td>NaN</td>\n",
       "      <td>NaN</td>\n",
       "    </tr>\n",
       "    <tr>\n",
       "      <th>151_drop</th>\n",
       "      <td>-</td>\n",
       "      <td>[16, 768]</td>\n",
       "      <td>NaN</td>\n",
       "      <td>NaN</td>\n",
       "    </tr>\n",
       "    <tr>\n",
       "      <th>152_fc</th>\n",
       "      <td>[768, 2]</td>\n",
       "      <td>[16, 2]</td>\n",
       "      <td>1538.0</td>\n",
       "      <td>1536.0</td>\n",
       "    </tr>\n",
       "    <tr>\n",
       "      <th>153_sf</th>\n",
       "      <td>-</td>\n",
       "      <td>[16, 2]</td>\n",
       "      <td>NaN</td>\n",
       "      <td>NaN</td>\n",
       "    </tr>\n",
       "  </tbody>\n",
       "</table>\n",
       "<p>154 rows × 4 columns</p>\n",
       "</div>"
      ],
      "text/plain": [
       "                                                   Kernel Shape  \\\n",
       "Layer                                                             \n",
       "0_bert.embeddings.Embedding_word_embeddings        [768, 28996]   \n",
       "1_bert.embeddings.Embedding_token_type_embeddings      [768, 2]   \n",
       "2_bert.embeddings.Embedding_position_embeddings      [768, 512]   \n",
       "3_bert.embeddings.LayerNorm_LayerNorm                     [768]   \n",
       "4_bert.embeddings.Dropout_dropout                             -   \n",
       "...                                                         ...   \n",
       "149_bert.pooler.Linear_dense                         [768, 768]   \n",
       "150_bert.pooler.Tanh_activation                               -   \n",
       "151_drop                                                      -   \n",
       "152_fc                                                 [768, 2]   \n",
       "153_sf                                                        -   \n",
       "\n",
       "                                                     Output Shape      Params  \\\n",
       "Layer                                                                           \n",
       "0_bert.embeddings.Embedding_word_embeddings        [16, 400, 768]  22268928.0   \n",
       "1_bert.embeddings.Embedding_token_type_embeddings  [16, 400, 768]      1536.0   \n",
       "2_bert.embeddings.Embedding_position_embeddings     [1, 400, 768]    393216.0   \n",
       "3_bert.embeddings.LayerNorm_LayerNorm              [16, 400, 768]      1536.0   \n",
       "4_bert.embeddings.Dropout_dropout                  [16, 400, 768]         NaN   \n",
       "...                                                           ...         ...   \n",
       "149_bert.pooler.Linear_dense                            [16, 768]    590592.0   \n",
       "150_bert.pooler.Tanh_activation                         [16, 768]         NaN   \n",
       "151_drop                                                [16, 768]         NaN   \n",
       "152_fc                                                    [16, 2]      1538.0   \n",
       "153_sf                                                    [16, 2]         NaN   \n",
       "\n",
       "                                                    Mult-Adds  \n",
       "Layer                                                          \n",
       "0_bert.embeddings.Embedding_word_embeddings        22268928.0  \n",
       "1_bert.embeddings.Embedding_token_type_embeddings      1536.0  \n",
       "2_bert.embeddings.Embedding_position_embeddings      393216.0  \n",
       "3_bert.embeddings.LayerNorm_LayerNorm                   768.0  \n",
       "4_bert.embeddings.Dropout_dropout                         NaN  \n",
       "...                                                       ...  \n",
       "149_bert.pooler.Linear_dense                         589824.0  \n",
       "150_bert.pooler.Tanh_activation                           NaN  \n",
       "151_drop                                                  NaN  \n",
       "152_fc                                                 1536.0  \n",
       "153_sf                                                    NaN  \n",
       "\n",
       "[154 rows x 4 columns]"
      ]
     },
     "execution_count": 26,
     "metadata": {},
     "output_type": "execute_result"
    }
   ],
   "source": [
    "x = next(iter(train_loader))\n",
    "\n",
    "summary(\n",
    "  model, \n",
    "  x['input_ids'].to(DEVICE),\n",
    "  x['attention_mask'].to(DEVICE)\n",
    ")"
   ]
  },
  {
   "cell_type": "markdown",
   "metadata": {
    "id": "FX4t8g2BPs2U",
    "tags": []
   },
   "source": [
    "### Wczytanie wytrenowanego modelu"
   ]
  },
  {
   "cell_type": "code",
   "execution_count": 27,
   "metadata": {
    "id": "IpAz_ps9Ps2U"
   },
   "outputs": [],
   "source": [
    "if os.path.exists(MODEL_TRANSFER_PATH):\n",
    "  model.load_state_dict(torch.load(MODEL_TRANSFER_PATH))"
   ]
  },
  {
   "cell_type": "markdown",
   "metadata": {
    "id": "VTcXiDUcPs2U",
    "tags": []
   },
   "source": [
    "### Kompilacja modelu\n",
    "\n",
    "W najnowszych wersjach treningu kompilacja przyśpiesza trening modelu, ale jest dostępna tylko na CUDA."
   ]
  },
  {
   "cell_type": "code",
   "execution_count": 28,
   "metadata": {
    "id": "bW1YdUVBPs2V"
   },
   "outputs": [
    {
     "name": "stdout",
     "output_type": "stream",
     "text": [
      "Na kompilacje modelu potrzebne było None\n"
     ]
    }
   ],
   "source": [
    "czas_kompilacji = None\n",
    "if DEVICE.type == 'cuda' and NIGHTLY:\n",
    "  start_kompilacji = datetime.now()\n",
    "  model = torch.compile(model, mode='reduce-overhead')\n",
    "  czas_kompilacji = datetime.now() - start_kompilacji\n",
    "  \n",
    "print(f'Na kompilacje modelu potrzebne było {czas_kompilacji}')"
   ]
  },
  {
   "cell_type": "markdown",
   "metadata": {
    "id": "RZ7UA2VOPs2V",
    "tags": []
   },
   "source": [
    "## Przebieg treningu"
   ]
  },
  {
   "cell_type": "code",
   "execution_count": 29,
   "metadata": {
    "colab": {
     "base_uri": "https://localhost:8080/",
     "height": 463
    },
    "id": "eeAdSYoOPs2V",
    "outputId": "0bc6b4bb-517e-48d8-a32c-303170ebdb69"
   },
   "outputs": [
    {
     "name": "stderr",
     "output_type": "stream",
     "text": [
      "Epoch 1/100: 100%|█| 3121/3121 [23:13<00:00,  2.24 batch/s, loss=0.061, acc=0.97\n",
      "Epoch 2/100: 100%|█| 3121/3121 [23:18<00:00,  2.23 batch/s, loss=0.015, acc=0.99\n",
      "Epoch 3/100: 100%|█| 3121/3121 [23:31<00:00,  2.21 batch/s, loss=0.007, acc=0.99\n",
      "Epoch 4/100: 100%|█| 3121/3121 [23:31<00:00,  2.21 batch/s, loss=0.005, acc=0.99\n",
      "Epoch 5/100: 100%|█| 3121/3121 [23:34<00:00,  2.21 batch/s, loss=0.004, acc=0.99\n",
      "Epoch 6/100: 100%|█| 3121/3121 [23:33<00:00,  2.21 batch/s, loss=0.004, acc=0.99\n",
      "Epoch 7/100: 100%|█| 3121/3121 [23:29<00:00,  2.21 batch/s, loss=0.002, acc=0.99\n",
      "Epoch 8/100: 100%|█| 3121/3121 [23:19<00:00,  2.23 batch/s, loss=0.002, acc=0.99\n",
      "Epoch 9/100: 100%|█| 3121/3121 [23:41<00:00,  2.20 batch/s, loss=0.002, acc=0.99\n",
      "Epoch 10/100: 100%|██| 3121/3121 [23:18<00:00,  2.23 batch/s, loss=0.002, acc=1]\n",
      "Epoch 11/100: 100%|█| 3121/3121 [23:28<00:00,  2.22 batch/s, loss=0.002, acc=0.9\n",
      "Epoch 12/100: 100%|██| 3121/3121 [23:26<00:00,  2.22 batch/s, loss=0.002, acc=1]\n",
      "Epoch 13/100: 100%|██| 3121/3121 [23:28<00:00,  2.22 batch/s, loss=0.001, acc=1]\n",
      "Epoch 14/100: 100%|██| 3121/3121 [23:27<00:00,  2.22 batch/s, loss=0.001, acc=1]\n",
      "Epoch 15/100: 100%|██| 3121/3121 [23:24<00:00,  2.22 batch/s, loss=0.001, acc=1]\n",
      "Epoch 16/100: 100%|██| 3121/3121 [23:35<00:00,  2.20 batch/s, loss=0.001, acc=1]\n",
      "Epoch 17/100: 100%|██| 3121/3121 [23:31<00:00,  2.21 batch/s, loss=0.001, acc=1]\n",
      "Epoch 18/100: 100%|██| 3121/3121 [23:29<00:00,  2.21 batch/s, loss=0.001, acc=1]\n"
     ]
    },
    {
     "name": "stdout",
     "output_type": "stream",
     "text": [
      "Early stoping Epoch: 18 Train loss 0.00078 Train accuracy 0.99954 Val loss: 0.04457 Val accuracy: 0.99201\n",
      "Model wytrenował sie w 7:20:57.676163\n"
     ]
    }
   ],
   "source": [
    "optimizer = torch.optim.AdamW(model.parameters(), lr=0.00001)\n",
    "criterion = torch.nn.functional.nll_loss\n",
    "scheduler = transformers.get_linear_schedule_with_warmup(\n",
    "  optimizer,\n",
    "  num_warmup_steps=0,\n",
    "  num_training_steps=len(train_loader) * EPOCHS\n",
    ")\n",
    "     \n",
    "early_stopping = EarlyStoping(PATIENCE, delta=DELTA, operator=np.greater_equal, model_path=MODEL_TRANSFER_PATH)\n",
    "\n",
    "writer = get_tensorboard_writer()\n",
    "\n",
    "train_losses = []\n",
    "val_losses = []\n",
    "train_accuracies = []\n",
    "val_accuracies = []\n",
    "\n",
    "start_treningu = datetime.now()\n",
    "for epoch in range(EPOCHS):\n",
    "  with tqdm(train_loader, unit=' batch') as tepoch:\n",
    "    tepoch.set_description(f'Epoch {epoch+1}/{EPOCHS}')\n",
    "\n",
    "    train_loss = 0\n",
    "    correct = 0\n",
    "    losses = []\n",
    "\n",
    "    model.train()\n",
    "\n",
    "    for batch_idx, d in enumerate(tepoch):\n",
    "      input_ids = d['input_ids'].to(DEVICE)\n",
    "      attention_mask = d['attention_mask'].to(DEVICE)\n",
    "      target = d['fake'].to(DEVICE)\n",
    "      \n",
    "      optimizer.zero_grad()\n",
    "                  \n",
    "      output = model(input_ids, attention_mask)\n",
    "      loss = criterion(output, target)\n",
    "      loss.backward()\n",
    "      torch.nn.utils.clip_grad_norm_(model.parameters(), CLIP_GRAD)\n",
    "      optimizer.step()\n",
    "      \n",
    "      losses.append(loss.item())\n",
    "      predictions = torch.argmax(output, dim=1)\n",
    "      correct += predictions.eq(target.view_as(predictions)).sum().detach()\n",
    "      scheduler.step()\n",
    "      \n",
    "      # scheduler.step(np.mean(losses))\n",
    "\n",
    "      tepoch.set_postfix({\n",
    "        'loss': round(np.mean(losses), 3),\n",
    "        'acc': round((correct / ((batch_idx + 1) * BATCH_SIZE)).item(), 3)\n",
    "      })\n",
    "\n",
    "    train_loss = np.mean(losses)\n",
    "    acc = (correct / float(len(train_loader.dataset))).item()\n",
    "  \n",
    "    train_losses.append(train_loss)\n",
    "    train_accuracies.append(acc)\n",
    "\n",
    "    model.eval()\n",
    "    correct = 0\n",
    "    val_loss = []\n",
    "        \n",
    "    with torch.no_grad():\n",
    "      for d in val_loader:\n",
    "        input_ids = d['input_ids'].to(DEVICE)\n",
    "        attention_mask = d['attention_mask'].to(DEVICE)\n",
    "        target = d['fake'].to(DEVICE)\n",
    "  \n",
    "        output = model(input_ids, attention_mask)\n",
    "\n",
    "        val_loss.append(criterion(output, target).item())\n",
    "\n",
    "        predictions = torch.argmax(output, dim=1)\n",
    "        correct += predictions.eq(target.view_as(predictions)).sum().detach()\n",
    "    val_acc = (correct / float(len(val_loader.dataset)))\n",
    "    val_accuracies.append(val_acc)\n",
    "\n",
    "    val_losses.append(np.mean(val_loss))\n",
    "\n",
    "    # scheduler.step(val_acc)\n",
    "    \n",
    "    writer.add_scalars('accuracy', {\n",
    "      'train': acc,\n",
    "      'validation': val_acc\n",
    "    }, epoch)\n",
    "        \n",
    "    writer.add_scalars('loss', {\n",
    "      'train': train_loss,\n",
    "      'validation': np.mean(val_loss)\n",
    "    }, epoch)\n",
    "    \n",
    "    if not early_stopping.continue_training(val_acc.item(), model):\n",
    "      tepoch.write(\n",
    "        f'Early stoping Epoch: {epoch+1} \\\n",
    "Train loss {train_loss:.5f} Train accuracy {acc:.5f} \\\n",
    "Val loss: {np.mean(val_loss):.5f} Val accuracy: {val_acc:.5f}'\n",
    "      )\n",
    "      break\n",
    "\n",
    "#   tepoch.write(\n",
    "#     f'Train loss {train_loss:.5f} Train accuracy {acc:.5f} \\\n",
    "# Val loss: {np.mean(val_loss):.5f} Val accuracy: {val_acc:.5f}'\n",
    "#   )\n",
    "writer.close()\n",
    "print(f'Model wytrenował sie w {datetime.now() - start_treningu}')"
   ]
  },
  {
   "cell_type": "markdown",
   "metadata": {
    "tags": []
   },
   "source": [
    "# Test modelu"
   ]
  },
  {
   "cell_type": "markdown",
   "metadata": {},
   "source": [
    "## Funkcja testująca model"
   ]
  },
  {
   "cell_type": "code",
   "execution_count": 30,
   "metadata": {
    "pycharm": {
     "is_executing": true
    },
    "tags": []
   },
   "outputs": [],
   "source": [
    "def test_model(model, criterion, loader):\n",
    "  correct = 0\n",
    "  test_loss = []\n",
    "  \n",
    "  y_predictions = []\n",
    "  y_test = []\n",
    "\n",
    "  model.eval()\n",
    "  \n",
    "  with torch.no_grad():\n",
    "    for batch_idx, d in enumerate(tqdm(loader)):\n",
    "      input_ids = d['input_ids'].to(DEVICE)\n",
    "      attention_mask = d['attention_mask'].to(DEVICE)\n",
    "      target = d['fake'].to(DEVICE)\n",
    "  \n",
    "      output = model(input_ids, attention_mask)\n",
    "\n",
    "      test_loss.append(criterion(output, target).item())\n",
    "\n",
    "      predictions = torch.argmax(output, dim=1)\n",
    "      correct += predictions.eq(target.view_as(predictions)).sum().detach()\n",
    "\n",
    "      y_predictions.extend(predictions)\n",
    "      y_test.extend(target)\n",
    "      \n",
    "    test_acc = (correct / float(len(test_loader.dataset)))\n",
    "  return test_loss, test_acc, torch.stack(y_predictions).cpu(), torch.stack(y_test).cpu()"
   ]
  },
  {
   "cell_type": "markdown",
   "metadata": {},
   "source": [
    "## Sprawdzenie ostatniej wersji modelu na zestawie testowym"
   ]
  },
  {
   "cell_type": "code",
   "execution_count": 31,
   "metadata": {
    "tags": []
   },
   "outputs": [
    {
     "name": "stderr",
     "output_type": "stream",
     "text": [
      "100%|█████████████████████████████████████████| 891/891 [02:04<00:00,  7.14it/s]"
     ]
    },
    {
     "name": "stdout",
     "output_type": "stream",
     "text": [
      "Test loss 0.03125 Test acc: 99.41139%\n"
     ]
    },
    {
     "name": "stderr",
     "output_type": "stream",
     "text": [
      "\n"
     ]
    }
   ],
   "source": [
    "test_loss, test_accuracies, _, _ = test_model(model, torch.nn.functional.nll_loss, test_loader)\n",
    "print(f'Test loss {np.mean(test_loss):.5f} Test acc: {(test_accuracies * 100):.5f}%')"
   ]
  },
  {
   "cell_type": "markdown",
   "metadata": {
    "tags": []
   },
   "source": [
    "## Wczytanie najlepszej wersji modelu\n",
    "\n",
    "Zostanie załadowana wersja modelu, która uzyskała najniższa wartość funkcji straty"
   ]
  },
  {
   "cell_type": "code",
   "execution_count": 32,
   "metadata": {
    "tags": []
   },
   "outputs": [
    {
     "data": {
      "text/plain": [
       "<All keys matched successfully>"
      ]
     },
     "execution_count": 32,
     "metadata": {},
     "output_type": "execute_result"
    }
   ],
   "source": [
    "model.load_state_dict(torch.load(MODEL_TRANSFER_PATH))"
   ]
  },
  {
   "cell_type": "markdown",
   "metadata": {},
   "source": [
    "## Sprawdzenie modelu na zestawie testowym\n",
    "\n",
    "Zostanie sprawdzany zupełnie nowy zestaw danych. Model nigdy wcześniej nie widział danych z tego zestawu"
   ]
  },
  {
   "cell_type": "code",
   "execution_count": 33,
   "metadata": {
    "colab": {
     "base_uri": "https://localhost:8080/"
    },
    "id": "8oFljKGqOSpM",
    "outputId": "8a379619-42b5-4529-fab9-d9e28cfeda1a",
    "tags": []
   },
   "outputs": [
    {
     "name": "stderr",
     "output_type": "stream",
     "text": [
      "100%|█████████████████████████████████████████| 891/891 [01:51<00:00,  7.99it/s]\n"
     ]
    },
    {
     "name": "stdout",
     "output_type": "stream",
     "text": [
      "Test loss 0.02143 Test acc: 99.46745%\n"
     ]
    }
   ],
   "source": [
    "test_loss, test_accuracies, y_predictions, y_test = test_model(model, torch.nn.functional.nll_loss, test_loader)\n",
    "\n",
    "print(f'Test loss {np.mean(test_loss):.5f} Test acc: {(test_accuracies * 100):.5f}%')"
   ]
  },
  {
   "cell_type": "markdown",
   "metadata": {
    "tags": []
   },
   "source": [
    "## Wyświetlenie macierzy pomyłek"
   ]
  },
  {
   "cell_type": "code",
   "execution_count": 34,
   "metadata": {
    "tags": []
   },
   "outputs": [
    {
     "data": {
      "text/plain": [
       "<Axes: >"
      ]
     },
     "execution_count": 34,
     "metadata": {},
     "output_type": "execute_result"
    },
    {
     "data": {
      "image/png": "[encoded data removed]",
      "text/plain": [
       "<Figure size 640x480 with 2 Axes>"
      ]
     },
     "metadata": {},
     "output_type": "display_data"
    }
   ],
   "source": [
    "cf = confusion_matrix(y_predictions, y_test)\n",
    "df_cm = pd.DataFrame(\n",
    "  cf,\n",
    "  index=[i for i in ['Przewidywany Real', 'Przewidywany FakeNews']],\n",
    "  columns=[i for i in ['Faktyczny Real', 'Faktyczny FakeNews']]\n",
    ")\n",
    "\n",
    "sns.heatmap(df_cm, annot=True, cmap='RdYlGn_r', fmt='d')"
   ]
  },
  {
   "cell_type": "markdown",
   "metadata": {},
   "source": [
    "## Zapisanie grafu utworzonego modelu"
   ]
  },
  {
   "cell_type": "code",
   "execution_count": 36,
   "metadata": {
    "tags": []
   },
   "outputs": [],
   "source": [
    "x = next(iter(train_loader))\n",
    "\n",
    "writer_model = tensorboard.SummaryWriter(GRAPH_PATH)\n",
    "writer_model.add_graph(\n",
    "  model,\n",
    "  (x['input_ids'].to(DEVICE), x['attention_mask'].to(DEVICE))\n",
    ")\n",
    "\n",
    "writer_model.close()"
   ]
  },
  {
   "cell_type": "markdown",
   "metadata": {
    "tags": []
   },
   "source": [
    "## Sprawdzenie modelu na 1 próbce"
   ]
  },
  {
   "cell_type": "markdown",
   "metadata": {
    "tags": []
   },
   "source": [
    "### Wybranie próbki do sprawdzenia"
   ]
  },
  {
   "cell_type": "code",
   "execution_count": 35,
   "metadata": {
    "tags": []
   },
   "outputs": [],
   "source": [
    "random_probe = randrange(len(data))"
   ]
  },
  {
   "cell_type": "markdown",
   "metadata": {
    "tags": []
   },
   "source": [
    "### Wyświetlenie wybranego artykułu"
   ]
  },
  {
   "cell_type": "code",
   "execution_count": 36,
   "metadata": {
    "tags": []
   },
   "outputs": [
    {
     "data": {
      "text/plain": [
       "6848      I don t hate these people. They are just ang...\n",
       "Name: text, dtype: object"
      ]
     },
     "execution_count": 36,
     "metadata": {},
     "output_type": "execute_result"
    }
   ],
   "source": [
    "data[data.ID == random_probe].text"
   ]
  },
  {
   "cell_type": "markdown",
   "metadata": {
    "tags": []
   },
   "source": [
    "### Sprawdzenie modelu"
   ]
  },
  {
   "cell_type": "markdown",
   "metadata": {
    "tags": []
   },
   "source": [
    "#### Przesłanie wybranego tekstu do modelu"
   ]
  },
  {
   "cell_type": "code",
   "execution_count": 37,
   "metadata": {
    "tags": []
   },
   "outputs": [],
   "source": [
    "t = TOKENIZER.encode_plus(\n",
    "  data[data.ID == random_probe].text.to_numpy()[0],\n",
    "  #data.text.[random_probe],\n",
    "  add_special_tokens=True,\n",
    "  max_length=SEQ_LENGTH,\n",
    "  truncation=True,\n",
    "  return_token_type_ids=False,\n",
    "  padding='max_length',\n",
    "  return_attention_mask=True,\n",
    "  return_tensors='pt'\n",
    ")\n",
    "\n",
    "output = model(\n",
    "  t['input_ids'].to(DEVICE),\n",
    "  t['attention_mask'].to(DEVICE)\n",
    ")"
   ]
  },
  {
   "cell_type": "markdown",
   "metadata": {
    "tags": []
   },
   "source": [
    "#### Porównanie odpowiedzi modelu z wartością oczekiwana"
   ]
  },
  {
   "cell_type": "code",
   "execution_count": 38,
   "metadata": {
    "tags": []
   },
   "outputs": [
    {
     "name": "stdout",
     "output_type": "stream",
     "text": [
      "Według modelu ten artykuł jest prawdziwy i jest tego pewny na 100.00%.\n"
     ]
    }
   ],
   "source": [
    "ans_model = torch.exp(output)\n",
    "print(\n",
    "  f'Według modelu ten artykuł jest {\"prawdziwy\" if torch.argmax(ans_model) == 0 else \"fałszywy\"} \\\n",
    "i jest tego pewny na {ans_model[0][torch.argmax(ans_model)]*100:.2f}%.'\n",
    ")"
   ]
  },
  {
   "cell_type": "code",
   "execution_count": 39,
   "metadata": {
    "tags": []
   },
   "outputs": [
    {
     "name": "stdout",
     "output_type": "stream",
     "text": [
      "Prawidłowa odpowiedz to: artykuł to prawda.\n"
     ]
    }
   ],
   "source": [
    "print(f'Prawidłowa odpowiedz to: artykuł to {\"prawda\" if data.label[random_probe] == 0 else \"fałsz\"}.')"
   ]
  },
  {
   "cell_type": "code",
   "execution_count": 40,
   "metadata": {
    "tags": []
   },
   "outputs": [
    {
     "name": "stdout",
     "output_type": "stream",
     "text": [
      "Odpowiedz modelu zgadza sie z wartością oczekiwana.\n"
     ]
    }
   ],
   "source": [
    "print(\n",
    "  f'Odpowiedz modelu {\"nie \" if torch.argmax(ans_model) != data.label[random_probe] else \"\"}zgadza \\\n",
    "sie z wartością oczekiwana.'\n",
    ")"
   ]
  },
  {
   "cell_type": "code",
   "execution_count": null,
   "metadata": {},
   "outputs": [],
   "source": []
  }
 ],
 "metadata": {
  "accelerator": "GPU",
  "colab": {
   "provenance": []
  },
  "gpuClass": "standard",
  "kernelspec": {
   "display_name": "marekBaranowski",
   "language": "python",
   "name": "marekbaranowski"
  },
  "language_info": {
   "codemirror_mode": {
    "name": "ipython",
    "version": 3
   },
   "file_extension": ".py",
   "mimetype": "text/x-python",
   "name": "python",
   "nbconvert_exporter": "python",
   "pygments_lexer": "ipython3",
   "version": "3.10.9"
  },
  "toc-autonumbering": false,
  "toc-showcode": false,
  "toc-showmarkdowntxt": false
 },
 "nbformat": 4,
 "nbformat_minor": 4
}
